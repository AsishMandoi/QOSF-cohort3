{
 "cells": [
  {
   "cell_type": "markdown",
   "metadata": {
    "id": "Gnwwha9_1yRa"
   },
   "source": [
    "# Vehicle Routing Problem\n",
    "\n",
    " - **QOSF Mentorship Program - Spring 2021**\n",
    " - **Mentor: Dr. Vesselin Gueorguiev**\n",
    " - **Mentees: Aniket Sanjay Sinha, Avneesh Verma, Shantom Kumar Borah**"
   ]
  },
  {
   "cell_type": "markdown",
   "metadata": {},
   "source": [
    "## Introduction\n",
    "This document explores various formulations and algorithms involved in solving the Vehicle Routing Problem (VRP) via Quadratic Unconstrained Binary Optimization (QUBO) on a quantum computer. For the solution of QUBOs on a quantum computer, currently available gate-based quantum computers are only able to solve the simplest versions of the problem, due to a very limited number of qubits. In this document, we use D-Wave's quantum computers based on Quantum Annealing to solve the Vehicle Routing Problem. D-Wave's quantum computers have access to a signifiantly larger number of qubits (more than 5000 for the newest Advantage Systems) and enable the solution of significantly larger versions of the VRP. The contents of this document are organized as follows:\n",
    "\n",
    " - *Problem Statement*\n",
    " - *Core Solvers*\n",
    " - *Qubit Complexity Comparison*\n",
    " - *QUBO Cost and Execution Times*"
   ]
  },
  {
   "cell_type": "markdown",
   "metadata": {},
   "source": [
    "## Problem Statement\n",
    "The Vehicle Routing Problem (VRP) may be thought of as a generalization of the Travelling Salesman Problem (TSP) with $M$ salesmen instead of one. Specifically, we have depot with a certain amount of goods that need to be delivered to a number of clients located at different places. The depot has access to $M$ delivery vehicles to make these deliveries. Let $N$ be the number of clients. Consider a fully connected graph of $N + 1$ nodes with the depot being the node $0$ and the variouis clients being nodes $\\{1, 2, \\dots N\\}$. Every edge $(i, j)$ of this fully connected graph represents the cost of moving from node $i$ to node $j$. This cost could be the time taken, the distance covered or anything at all that needs to be minimized. In our case, we have chosen it to be distance. The objective is to simply find the optimal route through this graph, for each vehicle, so that all deliveries are made with minimum cost. We use the following notation for the rest of this document:\n",
    "\n",
    " - *$N$: No. of clients, excluding the depot*\n",
    " - *$M$: No. of vehicles*\n",
    " - *$C_{ij}$: Cost of moving from node $i$ to node $j$*\n",
    "\n",
    "**Objective**: Find the optimal route for all $M$ vehicles covering all $N$ routes so that the total cost of this route is minimized."
   ]
  },
  {
   "cell_type": "markdown",
   "metadata": {},
   "source": [
    "## Core Solvers\n",
    "\n",
    "In this project, we have investigated six different formulations of the VRP for solving via quantum annealing. Each of these have their own advantages and disadvantages. These six solvers are listed below:\n",
    "\n",
    " - *Full QUBO Solver*\n",
    " - *Average Partitioning Solver*\n",
    " - *Route Activation Solver*\n",
    " - *Qiskit Native Solver*\n",
    " - *Clustered TSP Solver*\n",
    " - *Solution Partitioning Solver*\n",
    "\n",
    "In this section, we shall outline each of these solvers and demonstrate their solution using D-Wave's Leap Hybrid Solvers. For each solver, we outline how the problem is represented in QUBO form below, along with the objective function to be minimized and the various associated constraints, followed by an example usage of the code. We begin by importing the necessary files and creating a test VRP instance to demonstrate the working of each of these solvers."
   ]
  },
  {
   "cell_type": "code",
   "execution_count": 1,
   "metadata": {},
   "outputs": [
    {
     "ename": "ModuleNotFoundError",
     "evalue": "No module named 'dimod'",
     "output_type": "error",
     "traceback": [
      "\u001b[1;31m---------------------------------------------------------------------------\u001b[0m",
      "\u001b[1;31mModuleNotFoundError\u001b[0m                       Traceback (most recent call last)",
      "\u001b[1;32m~\\AppData\\Local\\Temp/ipykernel_11664/381038157.py\u001b[0m in \u001b[0;36m<module>\u001b[1;34m\u001b[0m\n\u001b[0;32m      2\u001b[0m \u001b[1;32mimport\u001b[0m \u001b[0mutility\u001b[0m\u001b[1;33m\u001b[0m\u001b[1;33m\u001b[0m\u001b[0m\n\u001b[0;32m      3\u001b[0m \u001b[1;33m\u001b[0m\u001b[0m\n\u001b[1;32m----> 4\u001b[1;33m \u001b[1;32mfrom\u001b[0m \u001b[0mfull_qubo_solver\u001b[0m \u001b[1;32mimport\u001b[0m \u001b[0mFullQuboSolver\u001b[0m\u001b[1;33m\u001b[0m\u001b[1;33m\u001b[0m\u001b[0m\n\u001b[0m\u001b[0;32m      5\u001b[0m \u001b[1;32mfrom\u001b[0m \u001b[0maverage_partition_solver\u001b[0m \u001b[1;32mimport\u001b[0m \u001b[0mAveragePartitionSolver\u001b[0m\u001b[1;33m\u001b[0m\u001b[1;33m\u001b[0m\u001b[0m\n\u001b[0;32m      6\u001b[0m \u001b[1;32mfrom\u001b[0m \u001b[0mqiskit_native_solver\u001b[0m \u001b[1;32mimport\u001b[0m \u001b[0mQiskitNativeSolver\u001b[0m\u001b[1;33m\u001b[0m\u001b[1;33m\u001b[0m\u001b[0m\n",
      "\u001b[1;32mD:\\Desktop\\QC-programming\\QOSF-cohort3\\vehicle_routing\\full_qubo_solver.py\u001b[0m in \u001b[0;36m<module>\u001b[1;34m\u001b[0m\n\u001b[0;32m      5\u001b[0m \u001b[1;32mfrom\u001b[0m \u001b[0mcollections\u001b[0m \u001b[1;32mimport\u001b[0m \u001b[0mCounter\u001b[0m\u001b[1;33m\u001b[0m\u001b[1;33m\u001b[0m\u001b[0m\n\u001b[0;32m      6\u001b[0m \u001b[1;32mfrom\u001b[0m \u001b[0mmatplotlib\u001b[0m\u001b[1;33m.\u001b[0m\u001b[0mcolors\u001b[0m \u001b[1;32mimport\u001b[0m \u001b[0mrgb2hex\u001b[0m\u001b[1;33m\u001b[0m\u001b[1;33m\u001b[0m\u001b[0m\n\u001b[1;32m----> 7\u001b[1;33m \u001b[1;32mfrom\u001b[0m \u001b[0mvehicle_routing\u001b[0m \u001b[1;32mimport\u001b[0m \u001b[0mVehicleRouter\u001b[0m\u001b[1;33m\u001b[0m\u001b[1;33m\u001b[0m\u001b[0m\n\u001b[0m\u001b[0;32m      8\u001b[0m \u001b[1;32mfrom\u001b[0m \u001b[0mqiskit_optimization\u001b[0m \u001b[1;32mimport\u001b[0m \u001b[0mQuadraticProgram\u001b[0m\u001b[1;33m\u001b[0m\u001b[1;33m\u001b[0m\u001b[0m\n\u001b[0;32m      9\u001b[0m \u001b[1;33m\u001b[0m\u001b[0m\n",
      "\u001b[1;32mD:\\Desktop\\QC-programming\\QOSF-cohort3\\vehicle_routing\\vehicle_routing.py\u001b[0m in \u001b[0;36m<module>\u001b[1;34m\u001b[0m\n\u001b[0;32m      1\u001b[0m \u001b[1;32mimport\u001b[0m \u001b[0mnumpy\u001b[0m \u001b[1;32mas\u001b[0m \u001b[0mnp\u001b[0m\u001b[1;33m\u001b[0m\u001b[1;33m\u001b[0m\u001b[0m\n\u001b[1;32m----> 2\u001b[1;33m \u001b[1;32mimport\u001b[0m \u001b[0mdimod\u001b[0m\u001b[1;33m\u001b[0m\u001b[1;33m\u001b[0m\u001b[0m\n\u001b[0m\u001b[0;32m      3\u001b[0m \u001b[1;32mimport\u001b[0m \u001b[0mtime\u001b[0m\u001b[1;33m\u001b[0m\u001b[1;33m\u001b[0m\u001b[0m\n\u001b[0;32m      4\u001b[0m \u001b[1;33m\u001b[0m\u001b[0m\n\u001b[0;32m      5\u001b[0m \u001b[1;32mfrom\u001b[0m \u001b[0mfunctools\u001b[0m \u001b[1;32mimport\u001b[0m \u001b[0mpartial\u001b[0m\u001b[1;33m\u001b[0m\u001b[1;33m\u001b[0m\u001b[0m\n",
      "\u001b[1;31mModuleNotFoundError\u001b[0m: No module named 'dimod'"
     ]
    }
   ],
   "source": [
    "import numpy as np\n",
    "import utility\n",
    "\n",
    "from full_qubo_solver import FullQuboSolver\n",
    "from average_partition_solver import AveragePartitionSolver\n",
    "from qiskit_native_solver import QiskitNativeSolver\n",
    "from route_activation_solver import RouteActivationSolver\n",
    "from clustered_tsp_solver import ClusteredTspSolver\n",
    "from solution_partition_solver import SolutionPartitionSolver"
   ]
  },
  {
   "cell_type": "code",
   "execution_count": null,
   "metadata": {
    "id": "04qampda2ZKn"
   },
   "outputs": [],
   "source": [
    "n = 5\n",
    "m = 2\n",
    "seed = 1543"
   ]
  },
  {
   "cell_type": "code",
   "execution_count": null,
   "metadata": {},
   "outputs": [],
   "source": [
    "instance, xc, yc = utility.generate_vrp_instance(n, seed)"
   ]
  },
  {
   "cell_type": "markdown",
   "metadata": {},
   "source": [
    "## Full Qubo Solver (FQS)\n",
    "\n",
    "***Representation***\n",
    "\n",
    "$x_{i,j,k} = 1$ if $i^{th}$ vehicle is in $j^{th}$ node at the $k^{th}$ timestep.\n",
    "\n",
    "$$i \\in \\{1, 2, \\dots M\\}; \\; j \\in \\{0, 1, \\dots N\\}; \\; k \\in \\{1, 2, \\dots N\\}$$\n",
    "\n",
    "***Objective Function***\n",
    "\n",
    "$$C = \\sum_{m=1}^M \\sum_{n=1}^N C_{0,n} x_{m,n,1} + \\sum_{m=1}^M \\sum_{n=1}^N C_{n,0} x_{m,n,N} + \\sum_{m=1}^M \\sum_{n=1}^{N-1} \\sum_{i=0}^{N} \\sum_{j=0}^{N} C_{i,j} x_{m,i,n} x_{m,j,n+1}$$\n",
    "\n",
    "Here, the first term represents the cost of moving from the depot to the first visited client for each vehicle, the second term represents the cost of moving from the last visited client to the depot for each vehicle, and the third term represents the costs at the intermediate nodes.\n",
    "\n",
    "***Constraints***\n",
    "\n",
    " - Every node (other than the depot) is served by exactly one vehicle at exactly one time instant.\n",
    "\n",
    "$$\\sum_{i=1}^M \\sum_{j=1}^N x_{i,k,j} = 1 \\;\\;\\forall k$$\n",
    "\n",
    " - A vehicle can be at only one place at any given timestep.\n",
    "\n",
    "$$\\sum_{k=0}^N x_{i,k,j} = 1 \\;\\;\\forall i, j$$\n",
    "\n",
    "***Qubit Complexity***\n",
    "\n",
    " - No. of Logical Variables: $MN(N+1)$\n",
    " - Best Case: $N(N+1)$\n",
    " - Worst Case: $N^2(N+1)$\n",
    "\n",
    "![](images/fqs_complexity.png)"
   ]
  },
  {
   "cell_type": "code",
   "execution_count": null,
   "metadata": {},
   "outputs": [],
   "source": [
    "fqs = FullQuboSolver(n, m, instance)\n",
    "fqs.solve(solver='leap')\n",
    "fqs.visualize(xc, yc)"
   ]
  },
  {
   "cell_type": "markdown",
   "metadata": {},
   "source": [
    "## Average Partitioning Solver (APS)\n",
    "\n",
    "***Representation***\n",
    "\n",
    "$x_{i,j,k} = 1$ if $i^{th}$ vehicle is in $j^{th}$ node at the $k^{th}$ timestep.\n",
    "\n",
    "$$i \\in \\{1, 2, \\dots M\\}; \\; j \\in \\{0, 1, \\dots N\\}; \\; k \\in \\{1, 2, \\dots T\\}$$\n",
    "\n",
    "The maximum timestep $T$ is evaluated as follows\n",
    "\n",
    "$$T = \\min\\{N, \\frac{N}{M} + L\\}$$\n",
    "\n",
    "Here, $L$ is a solver parameter called *Limit Radius* and naturally, we round up the above $T$ to the next integer.\n",
    "\n",
    "***Objective Function***\n",
    "\n",
    "$$C = \\sum_{m=1}^M \\sum_{n=1}^N C_{0,n} x_{m,n,1} + \\sum_{m=1}^M \\sum_{n=1}^N C_{n,0} x_{m,n,T} + \\sum_{m=1}^M \\sum_{n=1}^{T-1} \\sum_{i=0}^{N} \\sum_{j=0}^{N} C_{i,j} x_{m,i,n} x_{m,j,n+1}$$\n",
    "\n",
    "Here, the first term represents the cost of moving from the depot to the first visited client for each vehicle, the second term represents the cost of moving from the last visited client to the depot for each vehicle, and the third term represents the costs at the intermediate nodes.\n",
    "\n",
    "***Constraints***\n",
    "\n",
    " - Every node (other than the depot) is served by exactly one vehicle at exactly one time instant.\n",
    "\n",
    "$$\\sum_{i=1}^M \\sum_{j=1}^T x_{i,k,j} = 1 \\;\\;\\forall k$$\n",
    "\n",
    " - A vehicle can be at only one place at any given timestep.\n",
    "\n",
    "$$\\sum_{k=0}^N x_{i,k,j} = 1 \\;\\;\\forall i, j$$\n",
    "\n",
    "***Qubit Complexity***\n",
    "\n",
    " - No. of Logical Variables: $MT(N+1)$\n",
    " - Best Case: $N(N+1)$\n",
    " - Worst Case: $N^2(N+1)$\n",
    "\n",
    "![](images/aps_complexity.png)"
   ]
  },
  {
   "cell_type": "code",
   "execution_count": null,
   "metadata": {},
   "outputs": [],
   "source": [
    "aps = AveragePartitionSolver(n, m, instance)\n",
    "aps.solve(solver='leap')\n",
    "aps.visualize(xc, yc)"
   ]
  },
  {
   "cell_type": "markdown",
   "metadata": {},
   "source": [
    "## Route Activation Solver (RAS)\n",
    "\n",
    "***Representation***\n",
    "\n",
    "$x_{i,j} = 1$ if the route from the $i^{th}$ node to the $j^{th}$ node is traversed by any vehicle at any time.\n",
    "\n",
    "$$i \\in \\{0, 1, \\dots N\\}; \\; j \\in \\{0, 1, \\dots N\\}; \\; i \\neq j$$\n",
    "\n",
    "***Objective Function***\n",
    "\n",
    "$$C = \\sum_{i=0}^N \\sum_{j=0}^N C_{i,j} x_{i,j}$$\n",
    "\n",
    "***Constraints***\n",
    "\n",
    " - Each node (other than the depot) has exactly $1$ outgoing active edge and exactly $1$ incoming active edge.\n",
    "\n",
    "$$\\sum_{j\\neq i,j=0}^N x_{i,j} = 1 \\;\\;\\forall i$$\n",
    "$$\\sum_{i\\neq j,i=0}^N x_{i,j} = 1 \\;\\;\\forall j$$\n",
    "\n",
    " - The depot has exactly $M$ outgoing and $M$ incoming connections.\n",
    "\n",
    "$$\\sum_{j=1}^N x_{0,j} = M $$\n",
    "$$\\sum_{j=1}^N x_{j,0} = M $$\n",
    "\n",
    "***Qubit Complexity***\n",
    "\n",
    " - No. of Logical Variables: $N(N+1)$\n",
    " - Best Case: $N(N+1)$\n",
    " - Worst Case: $N(N+1)$\n",
    "\n",
    "![](images/ras_complexity.png)"
   ]
  },
  {
   "cell_type": "code",
   "execution_count": null,
   "metadata": {},
   "outputs": [],
   "source": [
    "ras = RouteActivationSolver(n, m, instance)\n",
    "ras.solve(solver='leap')\n",
    "ras.visualize(xc, yc)"
   ]
  },
  {
   "cell_type": "markdown",
   "metadata": {},
   "source": [
    "## Qiskit Native Solver (QNS)\n",
    "\n",
    "***Representation***\n",
    "\n",
    "$x_{i,j} = 1$ if the route from the $i^{th}$ node to the $j^{th}$ node is traversed by any vehicle at any time.\n",
    "\n",
    "$$i \\in \\{0, 1, \\dots N\\}; \\; j \\in \\{0, 1, \\dots N\\}; \\; i \\neq j$$\n",
    "\n",
    "***Objective Function***\n",
    "\n",
    "$$C = \\sum_{i=0}^N \\sum_{j=0}^N C_{i,j} x_{i,j}$$\n",
    "\n",
    "***Constraints***\n",
    "\n",
    " - Each node (other than the depot) has exactly $1$ outgoing active edge and exactly $1$ incoming active edge.\n",
    "\n",
    "$$\\sum_{j\\neq i,j=0}^N x_{i,j} = 1 \\;\\;\\forall i$$\n",
    "$$\\sum_{i\\neq j,i=0}^N x_{i,j} = 1 \\;\\;\\forall j$$\n",
    "\n",
    " - The depot has exactly $M$ outgoing and $M$ incoming connections.\n",
    "\n",
    "$$\\sum_{j=1}^N x_{0,j} = M $$\n",
    "$$\\sum_{j=1}^N x_{j,0} = M $$\n",
    "\n",
    " - DFJ Constraints for subtour elimination. Basically consider every possible subtour loop and eliminate them individually. Very inefficient.\n",
    "\n",
    "$$\\sum_{i, j \\in S, i \\neq j} x_{i,j} \\leq |S| - 1 \\;\\;\\forall S$$\n",
    "\n",
    "Here, $S$ represents a set of nodes excluding the depot that can form a loop and $|S|$ is the number of nodes in the loop $S$. The above constraint needs to be enforced for all possible loops $S$, which is what makes it so inefficient.\n",
    "\n",
    "***Qubit Complexity***\n",
    "\n",
    " - No. of Logical Variables: $N(N+1)$\n",
    " - Best Case: $N(N+1)$\n",
    " - Worst Case: $N(N+1)$\n",
    "\n",
    "![](images/qns_complexity.png)"
   ]
  },
  {
   "cell_type": "code",
   "execution_count": null,
   "metadata": {
    "scrolled": false
   },
   "outputs": [],
   "source": [
    "qns = QiskitNativeSolver(n, m, instance)\n",
    "qns.solve(solver='leap')\n",
    "qns.visualize(xc, yc)"
   ]
  },
  {
   "cell_type": "markdown",
   "metadata": {},
   "source": [
    "## Clustered Tsp Solver (CTS)\n",
    "\n",
    "***Algorithm***\n",
    "\n",
    "Use a multilevel maxcut with $M$ partitions to cluster the nodes into $M$ clsuters. Assign each cluster to a different vehicle and solve Travelling Salesman for each. Clustering is done using D-Wave's Leap Hybrid DQM Solvers. Below we show the formulation for TSP with $P$ nodes. This TSP is to be repeated for each cluster.\n",
    "\n",
    "***Representation***\n",
    "\n",
    "$x_{i,j} = 1$ if the salesman is at the $i^{th}$ node at the $j^{th}$ timestep.\n",
    "\n",
    "$$i \\in \\{1, \\dots P\\}; \\; j \\in \\{1, \\dots P\\}$$\n",
    "\n",
    "***Objective Function***\n",
    "\n",
    "$$C = \\sum_{n=1}^P C_{0,n} x_{n,1} + \\sum_{n=1}^P C_{n,0} x_{n,P} + \\sum_{n=1}^{N-1} \\sum_{i=1}^{N} \\sum_{j=1}^{N} C_{i,j} x_{i,n} x_{j,n+1}$$\n",
    "\n",
    "Here, the first term represents the cost of moving from the depot to the first visited client for each vehicle, the second term represents the cost of moving from the last visited client to the depot for each vehicle, and the third term represents the costs at the intermediate nodes.\n",
    "\n",
    "***Constraints***\n",
    "\n",
    " - Every node is served at only one time.\n",
    "\n",
    "$$\\sum_{j=1}^P x_{i,j} = 1 \\;\\;\\forall i$$\n",
    "\n",
    " - The vehicle can be at only one place at a given time\n",
    "\n",
    "$$\\sum_{i=1}^P x_{i,j} = 1 \\;\\;\\forall j$$\n",
    "\n",
    "***Qubit Complexity***\n",
    "\n",
    " - No. of Logical Variables: $MN + \\frac{N^2}{M}$\n",
    " - Best Case: $2N\\sqrt{N}$\n",
    " - Worst Case: $N(N+1)$\n",
    "\n",
    "![](images/cts_complexity.png)"
   ]
  },
  {
   "cell_type": "code",
   "execution_count": null,
   "metadata": {},
   "outputs": [],
   "source": [
    "cts = ClusteredTspSolver(n, m, instance)\n",
    "cts.solve(solver='leap')\n",
    "cts.visualize(xc, yc)"
   ]
  },
  {
   "cell_type": "markdown",
   "metadata": {},
   "source": [
    "## Solution Partitioning Solver (SPS)\n",
    "\n",
    "***Algorithm***\n",
    "\n",
    "Assume a single vehicle and solve the TSP for the problem. Then cut the TSP solution at $M-1$ points to generate $M$ routes for $M$ vehicles. While selecting the cuts, out of a total possible $N-1$ choices, choose the $M-1$ cuts that would minimize the extra cost incurred. Below, we outline the TSP formulation used.\n",
    "\n",
    "***Representation***\n",
    "\n",
    "$x_{i,j} = 1$ if the salesman is at the $i^{th}$ node at the $j^{th}$ timestep.\n",
    "\n",
    "$$i \\in \\{1, \\dots P\\}; \\; j \\in \\{1, \\dots P\\}$$\n",
    "\n",
    "***Objective Function***\n",
    "\n",
    "$$C = \\sum_{n=1}^P C_{0,n} x_{n,1} + \\sum_{n=1}^P C_{n,0} x_{n,P} + \\sum_{n=1}^{N-1} \\sum_{i=1}^{N} \\sum_{j=1}^{N} C_{i,j} x_{i,n} x_{j,n+1}$$\n",
    "\n",
    "Here, the first term represents the cost of moving from the depot to the first visited client for each vehicle, the second term represents the cost of moving from the last visited client to the depot for each vehicle, and the third term represents the costs at the intermediate nodes.\n",
    "\n",
    "***Constraints***\n",
    "\n",
    " - Every node is served at only one time.\n",
    "\n",
    "$$\\sum_{j=1}^P x_{i,j} = 1 \\;\\;\\forall i$$\n",
    "\n",
    " - The vehicle can be at only one place at a given time\n",
    "\n",
    "$$\\sum_{i=1}^P x_{i,j} = 1 \\;\\;\\forall j$$\n",
    "\n",
    "***Qubit Complexity***\n",
    "\n",
    " - No. of Logical Variables: $N^2$\n",
    " - Best Case: $N^2$\n",
    " - Worst Case: $N^2$\n",
    "\n",
    "![](images/sps_complexity.png)"
   ]
  },
  {
   "cell_type": "code",
   "execution_count": null,
   "metadata": {
    "scrolled": true
   },
   "outputs": [],
   "source": [
    "sps = SolutionPartitionSolver(n, m, instance)\n",
    "sps.solve(solver='leap')\n",
    "sps.visualize(xc, yc)"
   ]
  },
  {
   "cell_type": "markdown",
   "metadata": {},
   "source": [
    "## Qubit Complexity\n",
    "\n",
    "By Qubit Complexity of a solver, we refer to the number of logical variables in the Quadratic Program for the associated solver. We have already specified the number of variables required for each Solver in the previous section. We tabulate this data below.\n",
    "\n",
    "| Solver | Best Case Complexity | Worst Case Complexity |\n",
    "| :-: | :-: | :-: |\n",
    "| ***FQS*** | $N(N + 1)$ | $N^2(N + 1)$ |\n",
    "| ***APS*** | $N(N + 1)$ | $N^2(N + 1)$ |\n",
    "| ***RAS*** | $N(N + 1)$ | $N(N + 1)$ |\n",
    "| ***QNS*** | $N(N + 1)$ | $N(N + 1)$ |\n",
    "| ***CTS*** | $2N\\sqrt{N}$ | $N(N + 1)$ |\n",
    "| ***SPS*** | $N^2$ | $N^2$ |"
   ]
  },
  {
   "cell_type": "markdown",
   "metadata": {},
   "source": [
    "For comparison, we plot the best and worst case qubit complexities for the solvers below:\n",
    "![](images/qubit_complexity.png)"
   ]
  },
  {
   "cell_type": "markdown",
   "metadata": {},
   "source": [
    "## QUBO Cost and Execution Times\n",
    "In this section, we show how we may evaluate the performance of the various solvers by monitoring the exection times and optimized cost. A more detailed performance analysis may be found in the Jupyter Notebooks inside the **'QOSF-cohort3/vehicle_routing/Performance_Comparisons/\n",
    "'** folder of the github repository.\n",
    "\n",
    "### Optimized Cost"
   ]
  },
  {
   "cell_type": "code",
   "execution_count": null,
   "metadata": {
    "scrolled": false
   },
   "outputs": [],
   "source": [
    "vrp_list = [fqs, aps, ras, qns, cts, sps]\n",
    "solver_types = ['FQS', 'APS', 'RAS', 'QNS', 'CTS', 'SPS']\n",
    "for i, vrp in enumerate(vrp_list):\n",
    "    print(f'{solver_types[i]} - Optimized Cost: {vrp.evaluate_vrp_cost()}')"
   ]
  },
  {
   "cell_type": "markdown",
   "metadata": {},
   "source": [
    "### QUBO Build Times"
   ]
  },
  {
   "cell_type": "code",
   "execution_count": null,
   "metadata": {
    "scrolled": true
   },
   "outputs": [],
   "source": [
    "qubo_time = [vrp.timing['qubo_build_time'] for vrp in vrp_list]\n",
    "for i in range(len(vrp_list)):\n",
    "    print(f'{solver_types[i]} - Classical QUBO Build Time: {qubo_time[i]} us')"
   ]
  },
  {
   "cell_type": "markdown",
   "metadata": {},
   "source": [
    "### D-Wave QPU Access Times"
   ]
  },
  {
   "cell_type": "code",
   "execution_count": null,
   "metadata": {
    "scrolled": true
   },
   "outputs": [],
   "source": [
    "qpu_time = [vrp.timing['qpu_access_time'] for vrp in vrp_list]\n",
    "qpu_time[4] += cts.timing['clustering_time']['qpu_access_time']\n",
    "for i in range(len(vrp_list)):\n",
    "    print(f'{solver_types[i]} - QPU Access Time: {qpu_time[i]} us')"
   ]
  },
  {
   "cell_type": "markdown",
   "metadata": {},
   "source": [
    "## Capacitated Solvers\n",
    "\n",
    "The github repository also includes a set of solvers for solving the capacitated vehicle routing problem. An example of this, the Capacitated SPS, is shown below. All other solvers, other than QNS, also have their capacitated versions, which are accessed in a similar manner. It is to be noted that almost all all capacitated solvers are in general, quite poor-performing in comparison to the basic solvers, largely due to the additional constraints introduced. The Capacitated SPS, is basically the only algorithm that seems to provide a decent performance in this case."
   ]
  },
  {
   "cell_type": "code",
   "execution_count": null,
   "metadata": {},
   "outputs": [],
   "source": [
    "from solution_partition_solver import CapcSolutionPartitionSolver\n",
    "\n",
    "cap = 10\n",
    "dem = [1, 2, 3, 4, 5]\n",
    "sps = CapcSolutionPartitionSolver(n, m, instance, cap, dem)\n",
    "sps.solve(solver='leap')\n",
    "sps.visualize(xc, yc)"
   ]
  },
  {
   "cell_type": "markdown",
   "metadata": {},
   "source": [
    "## Conclusion\n",
    "In this document, we have explored the formulations of six different solvers for the Vehicle Routing Problem and have provided the example code for their usage. A more detailed performance analysis of each of these as well as comparisons against classical CPLEX solvers may be found in the **'QOSF-cohort3/vehicle_routing/Performance_Comparisons/\n",
    "'** folder of the github repository."
   ]
  }
 ],
 "metadata": {
  "colab": {
   "collapsed_sections": [],
   "name": "Vehicle Routing",
   "provenance": [],
   "toc_visible": true
  },
  "kernelspec": {
   "display_name": "Python 3 (ipykernel)",
   "language": "python",
   "name": "python3"
  },
  "language_info": {
   "codemirror_mode": {
    "name": "ipython",
    "version": 3
   },
   "file_extension": ".py",
   "mimetype": "text/x-python",
   "name": "python",
   "nbconvert_exporter": "python",
   "pygments_lexer": "ipython3",
   "version": "3.9.0"
  }
 },
 "nbformat": 4,
 "nbformat_minor": 1
}
