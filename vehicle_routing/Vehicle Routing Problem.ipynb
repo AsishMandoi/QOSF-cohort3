{
 "cells": [
  {
   "cell_type": "markdown",
   "metadata": {
    "id": "Gnwwha9_1yRa"
   },
   "source": [
    "# Vehicle Routing Problem\n",
    "\n",
    " - **QOSF Mentorship Program - Spring 2021**\n",
    " - **Mentor: Dr. Vesselin Gueorguiev**\n",
    " - **Mentees: Aniket Sanjay Sinha, Avneesh Verma, Shantom Kumar Borah**"
   ]
  },
  {
   "cell_type": "markdown",
   "metadata": {},
   "source": [
    "## Introduction\n",
    "This document explores various formulations and algorithms involved in solving the Vehicle Routing Problem (VRP) via Quadratic Unconstrained Binary Optimization (QUBO) on a quantum computer. For the solution of QUBOs on a quantum computer, currently available gate-based quantum computers are only able to solve the simplest versions of the problem, due to a very limited number of qubits. In this document, we use D-Wave's quantum computers based on Quantum Annpmeing to solve the Vehicle Routing Problem. D-Wave's quantum computers have access to a signifiantly larger number of qubits (more than 5000 for the newest Advantage Systems) and enable the solution of significantly larger versions of the VRP. The contents of this document are organized as follows:\n",
    "\n",
    " - *Problem Statement*\n",
    " - *Core Solvers*\n",
    " - *Qubit Complexity Comparison*\n",
    " - *QUBO Cost and Execution Times*"
   ]
  },
  {
   "cell_type": "markdown",
   "metadata": {},
   "source": [
    "## Problem Statement\n",
    "The Vehicle Routing Problem (VRP) may be thought of as a generalization of the Travelling Salesman Problem (TSP) with $M$ salesmen instead of one. Specifically, we have depot with a certain amount of goods that need to be delivered to a number of clients located at different places. The depot has access to $M$ delivery vehicles to make these deliveries. Let $N$ be the number of clients. Consider a fully connected graph of $N + 1$ nodes with the depot being the node $0$ and the variouis clients being nodes $\\{1, 2, \\dots N\\}$. Every edge $(i, j)$ of this fully connected graph represents the cost of moving from node $i$ to node $j$. This cost could be the time taken, the distance covered or anything at all that needs to be minimized. In our case, we have chosen it to be distance. The objective is to simply find the optimal route through this graph, for each vehicle, so that all deliveries are made with minimum cost. We use the following notation for the rest of this document:\n",
    "\n",
    " - *$N$: No. of clients, excluding the depot*\n",
    " - *$M$: No. of vehicles*\n",
    " - *$C_{ij}$: Cost of moving from node $i$ to node $j$*\n",
    "\n",
    "**Objective**: Find the optimal route for all $M$ vehicles covering all $N$ routes so that the total cost of this route is minimized."
   ]
  },
  {
   "cell_type": "markdown",
   "metadata": {},
   "source": [
    "## Core Solvers\n",
    "\n",
    "In this project, we have investigated six different formulations of the VRP for solving via quantum annealing. Each of these have their own advantages and disadvantages. These six solvers are listed below:\n",
    "\n",
    " - *Full QUBO Solver*\n",
    " - *Average Partitioning Solver*\n",
    " - *Route Activation Solver*\n",
    " - *Qiskit Native Solver*\n",
    " - *Clustered TSP Solver*\n",
    " - *Solution Partitioning Solver*\n",
    "\n",
    "In this section, we shall outline each of these solvers and demonstrate their solution using D-Wave's Leap Hybrid Solvers. For each solver, we outline how the problem is represented in QUBO form below, along with the objective function to be minimized and the various associated constraints, followed by an example usage of the code. We begin by importing the necessary files and creating a test VRP instance to demonstrate the working of each of these solvers."
   ]
  },
  {
   "cell_type": "code",
   "execution_count": 1,
   "metadata": {},
   "outputs": [],
   "source": [
    "import numpy as np\n",
    "import utility\n",
    "\n",
    "from full_qubo_solver import FullQuboSolver\n",
    "from average_partition_solver import AveragePartitionSolver\n",
    "from qiskit_native_solver import QiskitNativeSolver\n",
    "from route_activation_solver import RouteActivationSolver\n",
    "from clustered_tsp_solver import ClusteredTspSolver\n",
    "from solution_partition_solver import SolutionPartitionSolver"
   ]
  },
  {
   "cell_type": "code",
   "execution_count": 5,
   "metadata": {
    "id": "04qampda2ZKn"
   },
   "outputs": [],
   "source": [
    "n = 4\n",
    "m = 2\n",
    "seed = 65"
   ]
  },
  {
   "cell_type": "code",
   "execution_count": 6,
   "metadata": {},
   "outputs": [],
   "source": [
    "instance, xc, yc = utility.generate_vrp_instance(n, seed)"
   ]
  },
  {
   "cell_type": "code",
   "execution_count": 7,
   "metadata": {},
   "outputs": [
    {
     "data": {
      "image/svg+xml": "<?xml version=\"1.0\" encoding=\"utf-8\" standalone=\"no\"?>\r\n<!DOCTYPE svg PUBLIC \"-//W3C//DTD SVG 1.1//EN\"\r\n  \"http://www.w3.org/Graphics/SVG/1.1/DTD/svg11.dtd\">\r\n<svg height=\"246.958125pt\" version=\"1.1\" viewBox=\"0 0 349.2 246.958125\" width=\"349.2pt\" xmlns=\"http://www.w3.org/2000/svg\" xmlns:xlink=\"http://www.w3.org/1999/xlink\">\r\n <metadata>\r\n  <rdf:RDF xmlns:cc=\"http://creativecommons.org/ns#\" xmlns:dc=\"http://purl.org/dc/elements/1.1/\" xmlns:rdf=\"http://www.w3.org/1999/02/22-rdf-syntax-ns#\">\r\n   <cc:Work>\r\n    <dc:type rdf:resource=\"http://purl.org/dc/dcmitype/StillImage\"/>\r\n    <dc:date>2021-11-09T15:17:34.015022</dc:date>\r\n    <dc:format>image/svg+xml</dc:format>\r\n    <dc:creator>\r\n     <cc:Agent>\r\n      <dc:title>Matplotlib v3.4.2, https://matplotlib.org/</dc:title>\r\n     </cc:Agent>\r\n    </dc:creator>\r\n   </cc:Work>\r\n  </rdf:RDF>\r\n </metadata>\r\n <defs>\r\n  <style type=\"text/css\">*{stroke-linecap:butt;stroke-linejoin:round;}</style>\r\n </defs>\r\n <g id=\"figure_1\">\r\n  <g id=\"patch_1\">\r\n   <path d=\"M 0 246.958125 \r\nL 349.2 246.958125 \r\nL 349.2 0 \r\nL 0 0 \r\nz\r\n\" style=\"fill:none;\"/>\r\n  </g>\r\n  <g id=\"axes_1\">\r\n   <g id=\"patch_2\">\r\n    <path d=\"M 7.2 239.758125 \r\nL 342 239.758125 \r\nL 342 22.318125 \r\nL 7.2 22.318125 \r\nz\r\n\" style=\"fill:#ffffff;\"/>\r\n   </g>\r\n   <g id=\"patch_3\">\r\n    <path clip-path=\"url(#pb49af3bff2)\" d=\"M 223.187512 212.996664 \r\nQ 203.346417 168.978422 184.424192 126.998728 \r\n\" style=\"fill:none;stroke:#ff0000;stroke-linecap:round;stroke-width:2;\"/>\r\n    <path clip-path=\"url(#pb49af3bff2)\" d=\"M 184.244583 131.467256 \r\nL 184.424192 126.998728 \r\nL 187.891249 129.823532 \r\nL 184.244583 131.467256 \r\nz\r\n\" style=\"fill:#ff0000;stroke:#ff0000;stroke-linecap:round;stroke-width:2;\"/>\r\n   </g>\r\n   <g id=\"patch_4\">\r\n    <path clip-path=\"url(#pb49af3bff2)\" d=\"M 235.150133 218.791679 \r\nQ 269.848704 210.131759 302.377754 202.013299 \r\n\" style=\"fill:none;stroke:#ff0000;stroke-linecap:round;stroke-width:2;\"/>\r\n    <path clip-path=\"url(#pb49af3bff2)\" d=\"M 298.012501 201.041413 \r\nL 302.377754 202.013299 \r\nL 298.981094 204.922371 \r\nL 298.012501 201.041413 \r\nz\r\n\" style=\"fill:#ff0000;stroke:#ff0000;stroke-linecap:round;stroke-width:2;\"/>\r\n   </g>\r\n   <g id=\"patch_5\">\r\n    <path clip-path=\"url(#pb49af3bff2)\" d=\"M 42.912098 68.04278 \r\nQ 131.500396 141.698853 218.369302 213.92535 \r\n\" style=\"fill:none;stroke:#ff0000;stroke-linecap:round;stroke-width:2;\"/>\r\n    <path clip-path=\"url(#pb49af3bff2)\" d=\"M 216.57221 209.830175 \r\nL 218.369302 213.92535 \r\nL 214.014906 212.905918 \r\nL 216.57221 209.830175 \r\nz\r\n\" style=\"fill:#ff0000;stroke:#ff0000;stroke-linecap:round;stroke-width:2;\"/>\r\n   </g>\r\n   <g id=\"patch_6\">\r\n    <path clip-path=\"url(#pb49af3bff2)\" d=\"M 287.779749 41.894422 \r\nQ 166.332146 51.846564 47.113142 61.61608 \r\n\" style=\"fill:none;stroke:#ff0000;stroke-linecap:round;stroke-width:2;\"/>\r\n    <path clip-path=\"url(#pb49af3bff2)\" d=\"M 51.263123 63.28271 \r\nL 47.113142 61.61608 \r\nL 50.936434 59.296073 \r\nL 51.263123 63.28271 \r\nz\r\n\" style=\"fill:#ff0000;stroke:#ff0000;stroke-linecap:round;stroke-width:2;\"/>\r\n   </g>\r\n   <g id=\"patch_7\">\r\n    <path clip-path=\"url(#pb49af3bff2)\" d=\"M 187.200663 112.338252 \r\nQ 238.179412 79.126102 287.284622 47.134545 \r\n\" style=\"fill:none;stroke:#ff0000;stroke-linecap:round;stroke-width:2;\"/>\r\n    <path clip-path=\"url(#pb49af3bff2)\" d=\"M 282.8414 47.642263 \r\nL 287.284622 47.134545 \r\nL 285.024863 50.993753 \r\nL 282.8414 47.642263 \r\nz\r\n\" style=\"fill:#ff0000;stroke:#ff0000;stroke-linecap:round;stroke-width:2;\"/>\r\n   </g>\r\n   <g id=\"patch_8\">\r\n    <path clip-path=\"url(#pb49af3bff2)\" d=\"M 304.542098 201.473132 \r\nQ 269.843527 210.133051 237.314477 218.251511 \r\n\" style=\"fill:none;stroke:#ff0000;stroke-linecap:round;stroke-width:2;\"/>\r\n    <path clip-path=\"url(#pb49af3bff2)\" d=\"M 241.679731 219.223397 \r\nL 237.314477 218.251511 \r\nL 240.711138 215.34244 \r\nL 241.679731 219.223397 \r\nz\r\n\" style=\"fill:#ff0000;stroke:#ff0000;stroke-linecap:round;stroke-width:2;\"/>\r\n   </g>\r\n   <g id=\"matplotlib.axis_1\">\r\n    <g id=\"xtick_1\">\r\n     <g id=\"line2d_1\">\r\n      <path clip-path=\"url(#pb49af3bff2)\" d=\"M 55.17296 239.758125 \r\nL 55.17296 22.318125 \r\n\" style=\"fill:none;stroke:#b0b0b0;stroke-linecap:square;stroke-width:0.8;\"/>\r\n     </g>\r\n    </g>\r\n    <g id=\"xtick_2\">\r\n     <g id=\"line2d_2\">\r\n      <path clip-path=\"url(#pb49af3bff2)\" d=\"M 106.040793 239.758125 \r\nL 106.040793 22.318125 \r\n\" style=\"fill:none;stroke:#b0b0b0;stroke-linecap:square;stroke-width:0.8;\"/>\r\n     </g>\r\n    </g>\r\n    <g id=\"xtick_3\">\r\n     <g id=\"line2d_3\">\r\n      <path clip-path=\"url(#pb49af3bff2)\" d=\"M 156.908625 239.758125 \r\nL 156.908625 22.318125 \r\n\" style=\"fill:none;stroke:#b0b0b0;stroke-linecap:square;stroke-width:0.8;\"/>\r\n     </g>\r\n    </g>\r\n    <g id=\"xtick_4\">\r\n     <g id=\"line2d_4\">\r\n      <path clip-path=\"url(#pb49af3bff2)\" d=\"M 207.776458 239.758125 \r\nL 207.776458 22.318125 \r\n\" style=\"fill:none;stroke:#b0b0b0;stroke-linecap:square;stroke-width:0.8;\"/>\r\n     </g>\r\n    </g>\r\n    <g id=\"xtick_5\">\r\n     <g id=\"line2d_5\">\r\n      <path clip-path=\"url(#pb49af3bff2)\" d=\"M 258.644291 239.758125 \r\nL 258.644291 22.318125 \r\n\" style=\"fill:none;stroke:#b0b0b0;stroke-linecap:square;stroke-width:0.8;\"/>\r\n     </g>\r\n    </g>\r\n    <g id=\"xtick_6\">\r\n     <g id=\"line2d_6\">\r\n      <path clip-path=\"url(#pb49af3bff2)\" d=\"M 309.512124 239.758125 \r\nL 309.512124 22.318125 \r\n\" style=\"fill:none;stroke:#b0b0b0;stroke-linecap:square;stroke-width:0.8;\"/>\r\n     </g>\r\n    </g>\r\n   </g>\r\n   <g id=\"matplotlib.axis_2\">\r\n    <g id=\"ytick_1\">\r\n     <g id=\"line2d_7\">\r\n      <path clip-path=\"url(#pb49af3bff2)\" d=\"M 7.2 239.478 \r\nL 342 239.478 \r\n\" style=\"fill:none;stroke:#b0b0b0;stroke-linecap:square;stroke-width:0.8;\"/>\r\n     </g>\r\n    </g>\r\n    <g id=\"ytick_2\">\r\n     <g id=\"line2d_8\">\r\n      <path clip-path=\"url(#pb49af3bff2)\" d=\"M 7.2 209.948898 \r\nL 342 209.948898 \r\n\" style=\"fill:none;stroke:#b0b0b0;stroke-linecap:square;stroke-width:0.8;\"/>\r\n     </g>\r\n    </g>\r\n    <g id=\"ytick_3\">\r\n     <g id=\"line2d_9\">\r\n      <path clip-path=\"url(#pb49af3bff2)\" d=\"M 7.2 180.419797 \r\nL 342 180.419797 \r\n\" style=\"fill:none;stroke:#b0b0b0;stroke-linecap:square;stroke-width:0.8;\"/>\r\n     </g>\r\n    </g>\r\n    <g id=\"ytick_4\">\r\n     <g id=\"line2d_10\">\r\n      <path clip-path=\"url(#pb49af3bff2)\" d=\"M 7.2 150.890696 \r\nL 342 150.890696 \r\n\" style=\"fill:none;stroke:#b0b0b0;stroke-linecap:square;stroke-width:0.8;\"/>\r\n     </g>\r\n    </g>\r\n    <g id=\"ytick_5\">\r\n     <g id=\"line2d_11\">\r\n      <path clip-path=\"url(#pb49af3bff2)\" d=\"M 7.2 121.361594 \r\nL 342 121.361594 \r\n\" style=\"fill:none;stroke:#b0b0b0;stroke-linecap:square;stroke-width:0.8;\"/>\r\n     </g>\r\n    </g>\r\n    <g id=\"ytick_6\">\r\n     <g id=\"line2d_12\">\r\n      <path clip-path=\"url(#pb49af3bff2)\" d=\"M 7.2 91.832493 \r\nL 342 91.832493 \r\n\" style=\"fill:none;stroke:#b0b0b0;stroke-linecap:square;stroke-width:0.8;\"/>\r\n     </g>\r\n    </g>\r\n    <g id=\"ytick_7\">\r\n     <g id=\"line2d_13\">\r\n      <path clip-path=\"url(#pb49af3bff2)\" d=\"M 7.2 62.303391 \r\nL 342 62.303391 \r\n\" style=\"fill:none;stroke:#b0b0b0;stroke-linecap:square;stroke-width:0.8;\"/>\r\n     </g>\r\n    </g>\r\n    <g id=\"ytick_8\">\r\n     <g id=\"line2d_14\">\r\n      <path clip-path=\"url(#pb49af3bff2)\" d=\"M 7.2 32.77429 \r\nL 342 32.77429 \r\n\" style=\"fill:none;stroke:#b0b0b0;stroke-linecap:square;stroke-width:0.8;\"/>\r\n     </g>\r\n    </g>\r\n   </g>\r\n   <g id=\"PathCollection_1\">\r\n    <defs>\r\n     <path d=\"M 0 11.18034 \r\nC 2.965061 11.18034 5.80908 10.002309 7.905694 7.905694 \r\nC 10.002309 5.80908 11.18034 2.965061 11.18034 0 \r\nC 11.18034 -2.965061 10.002309 -5.80908 7.905694 -7.905694 \r\nC 5.80908 -10.002309 2.965061 -11.18034 0 -11.18034 \r\nC -2.965061 -11.18034 -5.80908 -10.002309 -7.905694 -7.905694 \r\nC -10.002309 -5.80908 -11.18034 -2.965061 -11.18034 0 \r\nC -11.18034 2.965061 -10.002309 5.80908 -7.905694 7.905694 \r\nC -5.80908 10.002309 -2.965061 11.18034 0 11.18034 \r\nz\r\n\" id=\"mfab6ff46e2\" style=\"stroke:#0000ff;stroke-opacity:0.8;\"/>\r\n    </defs>\r\n    <g clip-path=\"url(#pb49af3bff2)\">\r\n     <use style=\"fill:#0000ff;fill-opacity:0.8;stroke:#0000ff;stroke-opacity:0.8;\" x=\"226.745124\" xlink:href=\"#mfab6ff46e2\" y=\"220.889365\"/>\r\n     <use style=\"fill:#0000ff;fill-opacity:0.8;stroke:#0000ff;stroke-opacity:0.8;\" x=\"36.252893\" xlink:href=\"#mfab6ff46e2\" y=\"62.506034\"/>\r\n     <use style=\"fill:#0000ff;fill-opacity:0.8;stroke:#0000ff;stroke-opacity:0.8;\" x=\"296.413939\" xlink:href=\"#mfab6ff46e2\" y=\"41.186885\"/>\r\n     <use style=\"fill:#0000ff;fill-opacity:0.8;stroke:#0000ff;stroke-opacity:0.8;\" x=\"179.946316\" xlink:href=\"#mfab6ff46e2\" y=\"117.064387\"/>\r\n     <use style=\"fill:#0000ff;fill-opacity:0.8;stroke:#0000ff;stroke-opacity:0.8;\" x=\"312.947107\" xlink:href=\"#mfab6ff46e2\" y=\"199.375446\"/>\r\n    </g>\r\n   </g>\r\n   <g id=\"patch_9\">\r\n    <path d=\"M 7.2 239.758125 \r\nL 7.2 22.318125 \r\n\" style=\"fill:none;stroke:#000000;stroke-linecap:square;stroke-linejoin:miter;stroke-width:0.8;\"/>\r\n   </g>\r\n   <g id=\"patch_10\">\r\n    <path d=\"M 342 239.758125 \r\nL 342 22.318125 \r\n\" style=\"fill:none;stroke:#000000;stroke-linecap:square;stroke-linejoin:miter;stroke-width:0.8;\"/>\r\n   </g>\r\n   <g id=\"patch_11\">\r\n    <path d=\"M 7.2 239.758125 \r\nL 342 239.758125 \r\n\" style=\"fill:none;stroke:#000000;stroke-linecap:square;stroke-linejoin:miter;stroke-width:0.8;\"/>\r\n   </g>\r\n   <g id=\"patch_12\">\r\n    <path d=\"M 7.2 22.318125 \r\nL 342 22.318125 \r\n\" style=\"fill:none;stroke:#000000;stroke-linecap:square;stroke-linejoin:miter;stroke-width:0.8;\"/>\r\n   </g>\r\n   <g id=\"text_1\">\r\n    <g clip-path=\"url(#pb49af3bff2)\">\r\n     <!-- 0 -->\r\n     <g transform=\"translate(221.655124 225.304365)scale(0.16 -0.16)\">\r\n      <defs>\r\n       <path d=\"M 2034 4250 \r\nQ 1547 4250 1301 3770 \r\nQ 1056 3291 1056 2328 \r\nQ 1056 1369 1301 889 \r\nQ 1547 409 2034 409 \r\nQ 2525 409 2770 889 \r\nQ 3016 1369 3016 2328 \r\nQ 3016 3291 2770 3770 \r\nQ 2525 4250 2034 4250 \r\nz\r\nM 2034 4750 \r\nQ 2819 4750 3233 4129 \r\nQ 3647 3509 3647 2328 \r\nQ 3647 1150 3233 529 \r\nQ 2819 -91 2034 -91 \r\nQ 1250 -91 836 529 \r\nQ 422 1150 422 2328 \r\nQ 422 3509 836 4129 \r\nQ 1250 4750 2034 4750 \r\nz\r\n\" id=\"DejaVuSans-30\" transform=\"scale(0.015625)\"/>\r\n      </defs>\r\n      <use xlink:href=\"#DejaVuSans-30\"/>\r\n     </g>\r\n    </g>\r\n   </g>\r\n   <g id=\"text_2\">\r\n    <g clip-path=\"url(#pb49af3bff2)\">\r\n     <!-- 1 -->\r\n     <g transform=\"translate(31.162893 66.921034)scale(0.16 -0.16)\">\r\n      <defs>\r\n       <path d=\"M 794 531 \r\nL 1825 531 \r\nL 1825 4091 \r\nL 703 3866 \r\nL 703 4441 \r\nL 1819 4666 \r\nL 2450 4666 \r\nL 2450 531 \r\nL 3481 531 \r\nL 3481 0 \r\nL 794 0 \r\nL 794 531 \r\nz\r\n\" id=\"DejaVuSans-31\" transform=\"scale(0.015625)\"/>\r\n      </defs>\r\n      <use xlink:href=\"#DejaVuSans-31\"/>\r\n     </g>\r\n    </g>\r\n   </g>\r\n   <g id=\"text_3\">\r\n    <g clip-path=\"url(#pb49af3bff2)\">\r\n     <!-- 2 -->\r\n     <g transform=\"translate(291.323939 45.601885)scale(0.16 -0.16)\">\r\n      <defs>\r\n       <path d=\"M 1228 531 \r\nL 3431 531 \r\nL 3431 0 \r\nL 469 0 \r\nL 469 531 \r\nQ 828 903 1448 1529 \r\nQ 2069 2156 2228 2338 \r\nQ 2531 2678 2651 2914 \r\nQ 2772 3150 2772 3378 \r\nQ 2772 3750 2511 3984 \r\nQ 2250 4219 1831 4219 \r\nQ 1534 4219 1204 4116 \r\nQ 875 4013 500 3803 \r\nL 500 4441 \r\nQ 881 4594 1212 4672 \r\nQ 1544 4750 1819 4750 \r\nQ 2544 4750 2975 4387 \r\nQ 3406 4025 3406 3419 \r\nQ 3406 3131 3298 2873 \r\nQ 3191 2616 2906 2266 \r\nQ 2828 2175 2409 1742 \r\nQ 1991 1309 1228 531 \r\nz\r\n\" id=\"DejaVuSans-32\" transform=\"scale(0.015625)\"/>\r\n      </defs>\r\n      <use xlink:href=\"#DejaVuSans-32\"/>\r\n     </g>\r\n    </g>\r\n   </g>\r\n   <g id=\"text_4\">\r\n    <g clip-path=\"url(#pb49af3bff2)\">\r\n     <!-- 3 -->\r\n     <g transform=\"translate(174.856316 121.479387)scale(0.16 -0.16)\">\r\n      <defs>\r\n       <path d=\"M 2597 2516 \r\nQ 3050 2419 3304 2112 \r\nQ 3559 1806 3559 1356 \r\nQ 3559 666 3084 287 \r\nQ 2609 -91 1734 -91 \r\nQ 1441 -91 1130 -33 \r\nQ 819 25 488 141 \r\nL 488 750 \r\nQ 750 597 1062 519 \r\nQ 1375 441 1716 441 \r\nQ 2309 441 2620 675 \r\nQ 2931 909 2931 1356 \r\nQ 2931 1769 2642 2001 \r\nQ 2353 2234 1838 2234 \r\nL 1294 2234 \r\nL 1294 2753 \r\nL 1863 2753 \r\nQ 2328 2753 2575 2939 \r\nQ 2822 3125 2822 3475 \r\nQ 2822 3834 2567 4026 \r\nQ 2313 4219 1838 4219 \r\nQ 1578 4219 1281 4162 \r\nQ 984 4106 628 3988 \r\nL 628 4550 \r\nQ 988 4650 1302 4700 \r\nQ 1616 4750 1894 4750 \r\nQ 2613 4750 3031 4423 \r\nQ 3450 4097 3450 3541 \r\nQ 3450 3153 3228 2886 \r\nQ 3006 2619 2597 2516 \r\nz\r\n\" id=\"DejaVuSans-33\" transform=\"scale(0.015625)\"/>\r\n      </defs>\r\n      <use xlink:href=\"#DejaVuSans-33\"/>\r\n     </g>\r\n    </g>\r\n   </g>\r\n   <g id=\"text_5\">\r\n    <g clip-path=\"url(#pb49af3bff2)\">\r\n     <!-- 4 -->\r\n     <g transform=\"translate(307.857107 203.790446)scale(0.16 -0.16)\">\r\n      <defs>\r\n       <path d=\"M 2419 4116 \r\nL 825 1625 \r\nL 2419 1625 \r\nL 2419 4116 \r\nz\r\nM 2253 4666 \r\nL 3047 4666 \r\nL 3047 1625 \r\nL 3713 1625 \r\nL 3713 1100 \r\nL 3047 1100 \r\nL 3047 0 \r\nL 2419 0 \r\nL 2419 1100 \r\nL 313 1100 \r\nL 313 1709 \r\nL 2253 4666 \r\nz\r\n\" id=\"DejaVuSans-34\" transform=\"scale(0.015625)\"/>\r\n      </defs>\r\n      <use xlink:href=\"#DejaVuSans-34\"/>\r\n     </g>\r\n    </g>\r\n   </g>\r\n   <g id=\"text_6\">\r\n    <!-- Vehicle Routing Problem - 4 Clients &amp; 2 Cars -->\r\n    <g transform=\"translate(41.922188 16.318125)scale(0.12 -0.12)\">\r\n     <defs>\r\n      <path d=\"M 1831 0 \r\nL 50 4666 \r\nL 709 4666 \r\nL 2188 738 \r\nL 3669 4666 \r\nL 4325 4666 \r\nL 2547 0 \r\nL 1831 0 \r\nz\r\n\" id=\"DejaVuSans-56\" transform=\"scale(0.015625)\"/>\r\n      <path d=\"M 3597 1894 \r\nL 3597 1613 \r\nL 953 1613 \r\nQ 991 1019 1311 708 \r\nQ 1631 397 2203 397 \r\nQ 2534 397 2845 478 \r\nQ 3156 559 3463 722 \r\nL 3463 178 \r\nQ 3153 47 2828 -22 \r\nQ 2503 -91 2169 -91 \r\nQ 1331 -91 842 396 \r\nQ 353 884 353 1716 \r\nQ 353 2575 817 3079 \r\nQ 1281 3584 2069 3584 \r\nQ 2775 3584 3186 3129 \r\nQ 3597 2675 3597 1894 \r\nz\r\nM 3022 2063 \r\nQ 3016 2534 2758 2815 \r\nQ 2500 3097 2075 3097 \r\nQ 1594 3097 1305 2825 \r\nQ 1016 2553 972 2059 \r\nL 3022 2063 \r\nz\r\n\" id=\"DejaVuSans-65\" transform=\"scale(0.015625)\"/>\r\n      <path d=\"M 3513 2113 \r\nL 3513 0 \r\nL 2938 0 \r\nL 2938 2094 \r\nQ 2938 2591 2744 2837 \r\nQ 2550 3084 2163 3084 \r\nQ 1697 3084 1428 2787 \r\nQ 1159 2491 1159 1978 \r\nL 1159 0 \r\nL 581 0 \r\nL 581 4863 \r\nL 1159 4863 \r\nL 1159 2956 \r\nQ 1366 3272 1645 3428 \r\nQ 1925 3584 2291 3584 \r\nQ 2894 3584 3203 3211 \r\nQ 3513 2838 3513 2113 \r\nz\r\n\" id=\"DejaVuSans-68\" transform=\"scale(0.015625)\"/>\r\n      <path d=\"M 603 3500 \r\nL 1178 3500 \r\nL 1178 0 \r\nL 603 0 \r\nL 603 3500 \r\nz\r\nM 603 4863 \r\nL 1178 4863 \r\nL 1178 4134 \r\nL 603 4134 \r\nL 603 4863 \r\nz\r\n\" id=\"DejaVuSans-69\" transform=\"scale(0.015625)\"/>\r\n      <path d=\"M 3122 3366 \r\nL 3122 2828 \r\nQ 2878 2963 2633 3030 \r\nQ 2388 3097 2138 3097 \r\nQ 1578 3097 1268 2742 \r\nQ 959 2388 959 1747 \r\nQ 959 1106 1268 751 \r\nQ 1578 397 2138 397 \r\nQ 2388 397 2633 464 \r\nQ 2878 531 3122 666 \r\nL 3122 134 \r\nQ 2881 22 2623 -34 \r\nQ 2366 -91 2075 -91 \r\nQ 1284 -91 818 406 \r\nQ 353 903 353 1747 \r\nQ 353 2603 823 3093 \r\nQ 1294 3584 2113 3584 \r\nQ 2378 3584 2631 3529 \r\nQ 2884 3475 3122 3366 \r\nz\r\n\" id=\"DejaVuSans-63\" transform=\"scale(0.015625)\"/>\r\n      <path d=\"M 603 4863 \r\nL 1178 4863 \r\nL 1178 0 \r\nL 603 0 \r\nL 603 4863 \r\nz\r\n\" id=\"DejaVuSans-6c\" transform=\"scale(0.015625)\"/>\r\n      <path id=\"DejaVuSans-20\" transform=\"scale(0.015625)\"/>\r\n      <path d=\"M 2841 2188 \r\nQ 3044 2119 3236 1894 \r\nQ 3428 1669 3622 1275 \r\nL 4263 0 \r\nL 3584 0 \r\nL 2988 1197 \r\nQ 2756 1666 2539 1819 \r\nQ 2322 1972 1947 1972 \r\nL 1259 1972 \r\nL 1259 0 \r\nL 628 0 \r\nL 628 4666 \r\nL 2053 4666 \r\nQ 2853 4666 3247 4331 \r\nQ 3641 3997 3641 3322 \r\nQ 3641 2881 3436 2590 \r\nQ 3231 2300 2841 2188 \r\nz\r\nM 1259 4147 \r\nL 1259 2491 \r\nL 2053 2491 \r\nQ 2509 2491 2742 2702 \r\nQ 2975 2913 2975 3322 \r\nQ 2975 3731 2742 3939 \r\nQ 2509 4147 2053 4147 \r\nL 1259 4147 \r\nz\r\n\" id=\"DejaVuSans-52\" transform=\"scale(0.015625)\"/>\r\n      <path d=\"M 1959 3097 \r\nQ 1497 3097 1228 2736 \r\nQ 959 2375 959 1747 \r\nQ 959 1119 1226 758 \r\nQ 1494 397 1959 397 \r\nQ 2419 397 2687 759 \r\nQ 2956 1122 2956 1747 \r\nQ 2956 2369 2687 2733 \r\nQ 2419 3097 1959 3097 \r\nz\r\nM 1959 3584 \r\nQ 2709 3584 3137 3096 \r\nQ 3566 2609 3566 1747 \r\nQ 3566 888 3137 398 \r\nQ 2709 -91 1959 -91 \r\nQ 1206 -91 779 398 \r\nQ 353 888 353 1747 \r\nQ 353 2609 779 3096 \r\nQ 1206 3584 1959 3584 \r\nz\r\n\" id=\"DejaVuSans-6f\" transform=\"scale(0.015625)\"/>\r\n      <path d=\"M 544 1381 \r\nL 544 3500 \r\nL 1119 3500 \r\nL 1119 1403 \r\nQ 1119 906 1312 657 \r\nQ 1506 409 1894 409 \r\nQ 2359 409 2629 706 \r\nQ 2900 1003 2900 1516 \r\nL 2900 3500 \r\nL 3475 3500 \r\nL 3475 0 \r\nL 2900 0 \r\nL 2900 538 \r\nQ 2691 219 2414 64 \r\nQ 2138 -91 1772 -91 \r\nQ 1169 -91 856 284 \r\nQ 544 659 544 1381 \r\nz\r\nM 1991 3584 \r\nL 1991 3584 \r\nz\r\n\" id=\"DejaVuSans-75\" transform=\"scale(0.015625)\"/>\r\n      <path d=\"M 1172 4494 \r\nL 1172 3500 \r\nL 2356 3500 \r\nL 2356 3053 \r\nL 1172 3053 \r\nL 1172 1153 \r\nQ 1172 725 1289 603 \r\nQ 1406 481 1766 481 \r\nL 2356 481 \r\nL 2356 0 \r\nL 1766 0 \r\nQ 1100 0 847 248 \r\nQ 594 497 594 1153 \r\nL 594 3053 \r\nL 172 3053 \r\nL 172 3500 \r\nL 594 3500 \r\nL 594 4494 \r\nL 1172 4494 \r\nz\r\n\" id=\"DejaVuSans-74\" transform=\"scale(0.015625)\"/>\r\n      <path d=\"M 3513 2113 \r\nL 3513 0 \r\nL 2938 0 \r\nL 2938 2094 \r\nQ 2938 2591 2744 2837 \r\nQ 2550 3084 2163 3084 \r\nQ 1697 3084 1428 2787 \r\nQ 1159 2491 1159 1978 \r\nL 1159 0 \r\nL 581 0 \r\nL 581 3500 \r\nL 1159 3500 \r\nL 1159 2956 \r\nQ 1366 3272 1645 3428 \r\nQ 1925 3584 2291 3584 \r\nQ 2894 3584 3203 3211 \r\nQ 3513 2838 3513 2113 \r\nz\r\n\" id=\"DejaVuSans-6e\" transform=\"scale(0.015625)\"/>\r\n      <path d=\"M 2906 1791 \r\nQ 2906 2416 2648 2759 \r\nQ 2391 3103 1925 3103 \r\nQ 1463 3103 1205 2759 \r\nQ 947 2416 947 1791 \r\nQ 947 1169 1205 825 \r\nQ 1463 481 1925 481 \r\nQ 2391 481 2648 825 \r\nQ 2906 1169 2906 1791 \r\nz\r\nM 3481 434 \r\nQ 3481 -459 3084 -895 \r\nQ 2688 -1331 1869 -1331 \r\nQ 1566 -1331 1297 -1286 \r\nQ 1028 -1241 775 -1147 \r\nL 775 -588 \r\nQ 1028 -725 1275 -790 \r\nQ 1522 -856 1778 -856 \r\nQ 2344 -856 2625 -561 \r\nQ 2906 -266 2906 331 \r\nL 2906 616 \r\nQ 2728 306 2450 153 \r\nQ 2172 0 1784 0 \r\nQ 1141 0 747 490 \r\nQ 353 981 353 1791 \r\nQ 353 2603 747 3093 \r\nQ 1141 3584 1784 3584 \r\nQ 2172 3584 2450 3431 \r\nQ 2728 3278 2906 2969 \r\nL 2906 3500 \r\nL 3481 3500 \r\nL 3481 434 \r\nz\r\n\" id=\"DejaVuSans-67\" transform=\"scale(0.015625)\"/>\r\n      <path d=\"M 1259 4147 \r\nL 1259 2394 \r\nL 2053 2394 \r\nQ 2494 2394 2734 2622 \r\nQ 2975 2850 2975 3272 \r\nQ 2975 3691 2734 3919 \r\nQ 2494 4147 2053 4147 \r\nL 1259 4147 \r\nz\r\nM 628 4666 \r\nL 2053 4666 \r\nQ 2838 4666 3239 4311 \r\nQ 3641 3956 3641 3272 \r\nQ 3641 2581 3239 2228 \r\nQ 2838 1875 2053 1875 \r\nL 1259 1875 \r\nL 1259 0 \r\nL 628 0 \r\nL 628 4666 \r\nz\r\n\" id=\"DejaVuSans-50\" transform=\"scale(0.015625)\"/>\r\n      <path d=\"M 2631 2963 \r\nQ 2534 3019 2420 3045 \r\nQ 2306 3072 2169 3072 \r\nQ 1681 3072 1420 2755 \r\nQ 1159 2438 1159 1844 \r\nL 1159 0 \r\nL 581 0 \r\nL 581 3500 \r\nL 1159 3500 \r\nL 1159 2956 \r\nQ 1341 3275 1631 3429 \r\nQ 1922 3584 2338 3584 \r\nQ 2397 3584 2469 3576 \r\nQ 2541 3569 2628 3553 \r\nL 2631 2963 \r\nz\r\n\" id=\"DejaVuSans-72\" transform=\"scale(0.015625)\"/>\r\n      <path d=\"M 3116 1747 \r\nQ 3116 2381 2855 2742 \r\nQ 2594 3103 2138 3103 \r\nQ 1681 3103 1420 2742 \r\nQ 1159 2381 1159 1747 \r\nQ 1159 1113 1420 752 \r\nQ 1681 391 2138 391 \r\nQ 2594 391 2855 752 \r\nQ 3116 1113 3116 1747 \r\nz\r\nM 1159 2969 \r\nQ 1341 3281 1617 3432 \r\nQ 1894 3584 2278 3584 \r\nQ 2916 3584 3314 3078 \r\nQ 3713 2572 3713 1747 \r\nQ 3713 922 3314 415 \r\nQ 2916 -91 2278 -91 \r\nQ 1894 -91 1617 61 \r\nQ 1341 213 1159 525 \r\nL 1159 0 \r\nL 581 0 \r\nL 581 4863 \r\nL 1159 4863 \r\nL 1159 2969 \r\nz\r\n\" id=\"DejaVuSans-62\" transform=\"scale(0.015625)\"/>\r\n      <path d=\"M 3328 2828 \r\nQ 3544 3216 3844 3400 \r\nQ 4144 3584 4550 3584 \r\nQ 5097 3584 5394 3201 \r\nQ 5691 2819 5691 2113 \r\nL 5691 0 \r\nL 5113 0 \r\nL 5113 2094 \r\nQ 5113 2597 4934 2840 \r\nQ 4756 3084 4391 3084 \r\nQ 3944 3084 3684 2787 \r\nQ 3425 2491 3425 1978 \r\nL 3425 0 \r\nL 2847 0 \r\nL 2847 2094 \r\nQ 2847 2600 2669 2842 \r\nQ 2491 3084 2119 3084 \r\nQ 1678 3084 1418 2786 \r\nQ 1159 2488 1159 1978 \r\nL 1159 0 \r\nL 581 0 \r\nL 581 3500 \r\nL 1159 3500 \r\nL 1159 2956 \r\nQ 1356 3278 1631 3431 \r\nQ 1906 3584 2284 3584 \r\nQ 2666 3584 2933 3390 \r\nQ 3200 3197 3328 2828 \r\nz\r\n\" id=\"DejaVuSans-6d\" transform=\"scale(0.015625)\"/>\r\n      <path d=\"M 313 2009 \r\nL 1997 2009 \r\nL 1997 1497 \r\nL 313 1497 \r\nL 313 2009 \r\nz\r\n\" id=\"DejaVuSans-2d\" transform=\"scale(0.015625)\"/>\r\n      <path d=\"M 4122 4306 \r\nL 4122 3641 \r\nQ 3803 3938 3442 4084 \r\nQ 3081 4231 2675 4231 \r\nQ 1875 4231 1450 3742 \r\nQ 1025 3253 1025 2328 \r\nQ 1025 1406 1450 917 \r\nQ 1875 428 2675 428 \r\nQ 3081 428 3442 575 \r\nQ 3803 722 4122 1019 \r\nL 4122 359 \r\nQ 3791 134 3420 21 \r\nQ 3050 -91 2638 -91 \r\nQ 1578 -91 968 557 \r\nQ 359 1206 359 2328 \r\nQ 359 3453 968 4101 \r\nQ 1578 4750 2638 4750 \r\nQ 3056 4750 3426 4639 \r\nQ 3797 4528 4122 4306 \r\nz\r\n\" id=\"DejaVuSans-43\" transform=\"scale(0.015625)\"/>\r\n      <path d=\"M 2834 3397 \r\nL 2834 2853 \r\nQ 2591 2978 2328 3040 \r\nQ 2066 3103 1784 3103 \r\nQ 1356 3103 1142 2972 \r\nQ 928 2841 928 2578 \r\nQ 928 2378 1081 2264 \r\nQ 1234 2150 1697 2047 \r\nL 1894 2003 \r\nQ 2506 1872 2764 1633 \r\nQ 3022 1394 3022 966 \r\nQ 3022 478 2636 193 \r\nQ 2250 -91 1575 -91 \r\nQ 1294 -91 989 -36 \r\nQ 684 19 347 128 \r\nL 347 722 \r\nQ 666 556 975 473 \r\nQ 1284 391 1588 391 \r\nQ 1994 391 2212 530 \r\nQ 2431 669 2431 922 \r\nQ 2431 1156 2273 1281 \r\nQ 2116 1406 1581 1522 \r\nL 1381 1569 \r\nQ 847 1681 609 1914 \r\nQ 372 2147 372 2553 \r\nQ 372 3047 722 3315 \r\nQ 1072 3584 1716 3584 \r\nQ 2034 3584 2315 3537 \r\nQ 2597 3491 2834 3397 \r\nz\r\n\" id=\"DejaVuSans-73\" transform=\"scale(0.015625)\"/>\r\n      <path d=\"M 1556 2509 \r\nQ 1272 2256 1139 2004 \r\nQ 1006 1753 1006 1478 \r\nQ 1006 1022 1337 719 \r\nQ 1669 416 2169 416 \r\nQ 2466 416 2725 514 \r\nQ 2984 613 3213 813 \r\nL 1556 2509 \r\nz\r\nM 1997 2859 \r\nL 3584 1234 \r\nQ 3769 1513 3872 1830 \r\nQ 3975 2147 3994 2503 \r\nL 4575 2503 \r\nQ 4538 2091 4375 1687 \r\nQ 4213 1284 3922 891 \r\nL 4794 0 \r\nL 4006 0 \r\nL 3559 459 \r\nQ 3234 181 2878 45 \r\nQ 2522 -91 2113 -91 \r\nQ 1359 -91 881 339 \r\nQ 403 769 403 1441 \r\nQ 403 1841 612 2192 \r\nQ 822 2544 1241 2853 \r\nQ 1091 3050 1012 3245 \r\nQ 934 3441 934 3628 \r\nQ 934 4134 1281 4442 \r\nQ 1628 4750 2203 4750 \r\nQ 2463 4750 2720 4694 \r\nQ 2978 4638 3244 4525 \r\nL 3244 3956 \r\nQ 2972 4103 2725 4179 \r\nQ 2478 4256 2266 4256 \r\nQ 1938 4256 1733 4082 \r\nQ 1528 3909 1528 3634 \r\nQ 1528 3475 1620 3314 \r\nQ 1713 3153 1997 2859 \r\nz\r\n\" id=\"DejaVuSans-26\" transform=\"scale(0.015625)\"/>\r\n      <path d=\"M 2194 1759 \r\nQ 1497 1759 1228 1600 \r\nQ 959 1441 959 1056 \r\nQ 959 750 1161 570 \r\nQ 1363 391 1709 391 \r\nQ 2188 391 2477 730 \r\nQ 2766 1069 2766 1631 \r\nL 2766 1759 \r\nL 2194 1759 \r\nz\r\nM 3341 1997 \r\nL 3341 0 \r\nL 2766 0 \r\nL 2766 531 \r\nQ 2569 213 2275 61 \r\nQ 1981 -91 1556 -91 \r\nQ 1019 -91 701 211 \r\nQ 384 513 384 1019 \r\nQ 384 1609 779 1909 \r\nQ 1175 2209 1959 2209 \r\nL 2766 2209 \r\nL 2766 2266 \r\nQ 2766 2663 2505 2880 \r\nQ 2244 3097 1772 3097 \r\nQ 1472 3097 1187 3025 \r\nQ 903 2953 641 2809 \r\nL 641 3341 \r\nQ 956 3463 1253 3523 \r\nQ 1550 3584 1831 3584 \r\nQ 2591 3584 2966 3190 \r\nQ 3341 2797 3341 1997 \r\nz\r\n\" id=\"DejaVuSans-61\" transform=\"scale(0.015625)\"/>\r\n     </defs>\r\n     <use xlink:href=\"#DejaVuSans-56\"/>\r\n     <use x=\"60.658203\" xlink:href=\"#DejaVuSans-65\"/>\r\n     <use x=\"122.181641\" xlink:href=\"#DejaVuSans-68\"/>\r\n     <use x=\"185.560547\" xlink:href=\"#DejaVuSans-69\"/>\r\n     <use x=\"213.34375\" xlink:href=\"#DejaVuSans-63\"/>\r\n     <use x=\"268.324219\" xlink:href=\"#DejaVuSans-6c\"/>\r\n     <use x=\"296.107422\" xlink:href=\"#DejaVuSans-65\"/>\r\n     <use x=\"357.630859\" xlink:href=\"#DejaVuSans-20\"/>\r\n     <use x=\"389.417969\" xlink:href=\"#DejaVuSans-52\"/>\r\n     <use x=\"454.400391\" xlink:href=\"#DejaVuSans-6f\"/>\r\n     <use x=\"515.582031\" xlink:href=\"#DejaVuSans-75\"/>\r\n     <use x=\"578.960938\" xlink:href=\"#DejaVuSans-74\"/>\r\n     <use x=\"618.169922\" xlink:href=\"#DejaVuSans-69\"/>\r\n     <use x=\"645.953125\" xlink:href=\"#DejaVuSans-6e\"/>\r\n     <use x=\"709.332031\" xlink:href=\"#DejaVuSans-67\"/>\r\n     <use x=\"772.808594\" xlink:href=\"#DejaVuSans-20\"/>\r\n     <use x=\"804.595703\" xlink:href=\"#DejaVuSans-50\"/>\r\n     <use x=\"863.148438\" xlink:href=\"#DejaVuSans-72\"/>\r\n     <use x=\"902.011719\" xlink:href=\"#DejaVuSans-6f\"/>\r\n     <use x=\"963.193359\" xlink:href=\"#DejaVuSans-62\"/>\r\n     <use x=\"1026.669922\" xlink:href=\"#DejaVuSans-6c\"/>\r\n     <use x=\"1054.453125\" xlink:href=\"#DejaVuSans-65\"/>\r\n     <use x=\"1115.976562\" xlink:href=\"#DejaVuSans-6d\"/>\r\n     <use x=\"1213.388672\" xlink:href=\"#DejaVuSans-20\"/>\r\n     <use x=\"1245.175781\" xlink:href=\"#DejaVuSans-2d\"/>\r\n     <use x=\"1281.259766\" xlink:href=\"#DejaVuSans-20\"/>\r\n     <use x=\"1313.046875\" xlink:href=\"#DejaVuSans-34\"/>\r\n     <use x=\"1376.669922\" xlink:href=\"#DejaVuSans-20\"/>\r\n     <use x=\"1408.457031\" xlink:href=\"#DejaVuSans-43\"/>\r\n     <use x=\"1478.28125\" xlink:href=\"#DejaVuSans-6c\"/>\r\n     <use x=\"1506.064453\" xlink:href=\"#DejaVuSans-69\"/>\r\n     <use x=\"1533.847656\" xlink:href=\"#DejaVuSans-65\"/>\r\n     <use x=\"1595.371094\" xlink:href=\"#DejaVuSans-6e\"/>\r\n     <use x=\"1658.75\" xlink:href=\"#DejaVuSans-74\"/>\r\n     <use x=\"1697.958984\" xlink:href=\"#DejaVuSans-73\"/>\r\n     <use x=\"1750.058594\" xlink:href=\"#DejaVuSans-20\"/>\r\n     <use x=\"1781.845703\" xlink:href=\"#DejaVuSans-26\"/>\r\n     <use x=\"1859.824219\" xlink:href=\"#DejaVuSans-20\"/>\r\n     <use x=\"1891.611328\" xlink:href=\"#DejaVuSans-32\"/>\r\n     <use x=\"1955.234375\" xlink:href=\"#DejaVuSans-20\"/>\r\n     <use x=\"1987.021484\" xlink:href=\"#DejaVuSans-43\"/>\r\n     <use x=\"2056.845703\" xlink:href=\"#DejaVuSans-61\"/>\r\n     <use x=\"2118.125\" xlink:href=\"#DejaVuSans-72\"/>\r\n     <use x=\"2159.238281\" xlink:href=\"#DejaVuSans-73\"/>\r\n    </g>\r\n   </g>\r\n  </g>\r\n </g>\r\n <defs>\r\n  <clipPath id=\"pb49af3bff2\">\r\n   <rect height=\"217.44\" width=\"334.8\" x=\"7.2\" y=\"22.318125\"/>\r\n  </clipPath>\r\n </defs>\r\n</svg>\r\n",
      "text/plain": [
       "<Figure size 432x288 with 1 Axes>"
      ]
     },
     "metadata": {},
     "output_type": "display_data"
    }
   ],
   "source": [
    "ras = RouteActivationSolver(n, m, instance)\n",
    "ras.solve(solver='leap')\n",
    "ras.visualize(xc, yc)"
   ]
  },
  {
   "cell_type": "markdown",
   "metadata": {},
   "source": [
    "## Full Qubo Solver (FQS)\n",
    "\n",
    "***Representation***\n",
    "\n",
    "$x_{i,j,k} = 1$ if $i^{th}$ vehicle is in $j^{th}$ node at the $k^{th}$ timestep.\n",
    "\n",
    "$$i \\in \\{1, 2, \\dots M\\}; \\; j \\in \\{0, 1, \\dots N\\}; \\; k \\in \\{1, 2, \\dots N\\}$$\n",
    "\n",
    "***Objective Function*** (Verify!)\n",
    "\n",
    "$$C = \\sum_{m=1}^M \\sum_{n=1}^N C_{0,n} x_{m,n,1} + \\sum_{m=1}^M \\sum_{n=1}^N C_{n,0} x_{m,n,N} + \\sum_{m=1}^M \\sum_{n=1}^{N-1} \\sum_{i=0}^{N} \\sum_{j=0}^{N} C_{i,j} x_{m,i,n} x_{m,j,n+1}$$\n",
    "\n",
    "Here, the first term represents the cost of moving from the depot to the first visited client for each vehicle, the second term represents the cost of moving from the last visited client to the depot for each vehicle, and the third term represents the costs at the intermediate nodes.\n",
    "\n",
    "***Constraints***\n",
    "\n",
    " - Every node (other than the depot) is served by exactly one vehicle at exactly one time instant.\n",
    "\n",
    "$$\\sum_{i=1}^M \\sum_{k=1}^{N(T_{max}?)} x_{i,j,k} = 1 \\;\\;\\forall j$$\n",
    "\n",
    " - A vehicle can be at only one place at any given timestep.\n",
    "\n",
    "$$\\sum_{j=0}^N x_{i,j,k} = 1 \\;\\;\\forall i, k$$\n",
    "\n",
    "***Qubit Complexity*** (How?)\n",
    "\n",
    " - No. of Logical Variables: $MN(N+1)$\n",
    " - Best Case: $N(N+1)$\n",
    " - Worst Case: $N^2(N+1)$\n",
    "\n",
    "![](images/fqs_complexity.png)"
   ]
  },
  {
   "cell_type": "code",
   "execution_count": null,
   "metadata": {},
   "outputs": [],
   "source": [
    "fqs = FullQuboSolver(n, m, instance)\n",
    "fqs.solve(solver='npme')\n",
    "fqs.visualize(xc, yc)"
   ]
  },
  {
   "cell_type": "markdown",
   "metadata": {},
   "source": [
    "## Average Partitioning Solver (APS)\n",
    "\n",
    "***Representation***\n",
    "\n",
    "$x_{i,j,k} = 1$ if $i^{th}$ vehicle is in $j^{th}$ node at the $k^{th}$ timestep.\n",
    "\n",
    "$$i \\in \\{1, 2, \\dots M\\}; \\; j \\in \\{0, 1, \\dots N\\}; \\; k \\in \\{1, 2, \\dots T\\}$$\n",
    "\n",
    "The maximum timestep $T$ is evaluated as follows\n",
    "\n",
    "$$T = \\min\\{N, \\frac{N}{M} + L\\}$$\n",
    "\n",
    "Here, $L$ is a solver parameter called *Limit Radius* and naturally, we round up the above $T$ to the next integer.\n",
    "\n",
    "***Objective Function***\n",
    "\n",
    "$$C = \\sum_{m=1}^M \\sum_{n=1}^N C_{0,n} x_{m,n,1} + \\sum_{m=1}^M \\sum_{n=1}^N C_{n,0} x_{m,n,T} + \\sum_{m=1}^M \\sum_{n=1}^{T-1} \\sum_{i=0}^{N} \\sum_{j=0}^{N} C_{i,j} x_{m,i,n} x_{m,j,n+1}$$\n",
    "\n",
    "Here, the first term represents the cost of moving from the depot to the first visited client for each vehicle, the second term represents the cost of moving from the last visited client to the depot for each vehicle, and the third term represents the costs at the intermediate nodes.\n",
    "\n",
    "***Constraints***\n",
    "\n",
    " - Every node (other than the depot) is served by exactly one vehicle at exactly one time instant.\n",
    "\n",
    "$$\\sum_{i=1}^M \\sum_{j=1}^T x_{i,k,j} = 1 \\;\\;\\forall k$$\n",
    "\n",
    " - A vehicle can be at only one place at any given timestep.\n",
    "\n",
    "$$\\sum_{k=0}^N x_{i,k,j} = 1 \\;\\;\\forall i, j$$\n",
    "\n",
    "***Qubit Complexity***\n",
    "\n",
    " - No. of Logical Variables: $MT(N+1)$\n",
    " - Best Case: $N(N+1)$\n",
    " - Worst Case: $N^2(N+1)$\n",
    "\n",
    "![](images/aps_complexity.png)"
   ]
  },
  {
   "cell_type": "code",
   "execution_count": null,
   "metadata": {},
   "outputs": [],
   "source": [
    "aps = AveragePartitionSolver(n, m, instance)\n",
    "aps.solve(solver='npme')\n",
    "aps.visualize(xc, yc)"
   ]
  },
  {
   "cell_type": "markdown",
   "metadata": {},
   "source": [
    "## Route Activation Solver (RAS)\n",
    "\n",
    "***Representation***\n",
    "\n",
    "$x_{i,j} = 1$ if the route from the $i^{th}$ node to the $j^{th}$ node is traversed by any vehicle at any time.\n",
    "\n",
    "$$i \\in \\{0, 1, \\dots N\\}; \\; j \\in \\{0, 1, \\dots N\\}; \\; i \\neq j$$\n",
    "\n",
    "***Objective Function***\n",
    "\n",
    "$$C = \\sum_{i=0}^N \\sum_{j=0}^N C_{i,j} x_{i,j}$$\n",
    "\n",
    "***Constraints***\n",
    "\n",
    " - Each node (other than the depot) has exactly $1$ outgoing active edge and exactly $1$ incoming active edge.\n",
    "\n",
    "$$\\sum_{j\\neq i,j=0}^N x_{i,j} = 1 \\;\\;\\forall i$$\n",
    "$$\\sum_{i\\neq j,i=0}^N x_{i,j} = 1 \\;\\;\\forall j$$\n",
    "\n",
    " - The depot has exactly $M$ outgoing and $M$ incoming connections.\n",
    "\n",
    "$$\\sum_{j=1}^N x_{0,j} = M $$\n",
    "$$\\sum_{j=1}^N x_{j,0} = M $$\n",
    "\n",
    "***Qubit Complexity***\n",
    "\n",
    " - No. of Logical Variables: $N(N+1)$\n",
    " - Best Case: $N(N+1)$\n",
    " - Worst Case: $N(N+1)$\n",
    "\n",
    "![](images/ras_complexity.png)"
   ]
  },
  {
   "cell_type": "markdown",
   "metadata": {},
   "source": [
    "## Qiskit Native Solver (QNS)\n",
    "\n",
    "***Representation***\n",
    "\n",
    "$x_{i,j} = 1$ if the route from the $i^{th}$ node to the $j^{th}$ node is traversed by any vehicle at any time.\n",
    "\n",
    "$$i \\in \\{0, 1, \\dots N\\}; \\; j \\in \\{0, 1, \\dots N\\}; \\; i \\neq j$$\n",
    "\n",
    "***Objective Function***\n",
    "\n",
    "$$C = \\sum_{i=0}^N \\sum_{j=0}^N C_{i,j} x_{i,j}$$\n",
    "\n",
    "***Constraints***\n",
    "\n",
    " - Each node (other than the depot) has exactly $1$ outgoing active edge and exactly $1$ incoming active edge.\n",
    "\n",
    "$$\\sum_{j\\neq i,j=0}^N x_{i,j} = 1 \\;\\;\\forall i$$\n",
    "$$\\sum_{i\\neq j,i=0}^N x_{i,j} = 1 \\;\\;\\forall j$$\n",
    "\n",
    " - The depot has exactly $M$ outgoing and $M$ incoming connections.\n",
    "\n",
    "$$\\sum_{j=1}^N x_{0,j} = M $$\n",
    "$$\\sum_{j=1}^N x_{j,0} = M $$\n",
    "\n",
    " - DFJ Constraints for subtour elimination. Basically consider every possible subtour loop and eliminate them individually. Very inefficient.\n",
    "\n",
    "$$\\sum_{i, j \\in S, i \\neq j} x_{i,j} \\leq |S| - 1 \\;\\;\\forall S$$\n",
    "\n",
    "Here, $S$ represents a set of nodes excluding the depot that can form a loop and $|S|$ is the number of nodes in the loop $S$. The above constraint needs to be enforced for all possible loops $S$, which is what makes it so inefficient.\n",
    "\n",
    "***Qubit Complexity***\n",
    "\n",
    " - No. of Logical Variables: $N(N+1)$\n",
    " - Best Case: $N(N+1)$\n",
    " - Worst Case: $N(N+1)$\n",
    "\n",
    "![](images/qns_complexity.png)"
   ]
  },
  {
   "cell_type": "code",
   "execution_count": null,
   "metadata": {
    "scrolled": false
   },
   "outputs": [],
   "source": [
    "qns = QiskitNativeSolver(n, m, instance)\n",
    "qns.solve(solver='npme')\n",
    "qns.visualize(xc, yc)"
   ]
  },
  {
   "cell_type": "markdown",
   "metadata": {},
   "source": [
    "## Clustered Tsp Solver (CTS)\n",
    "\n",
    "***Algorithm***\n",
    "\n",
    "Use a multilevel maxcut with $M$ partitions to cluster the nodes into $M$ clsuters. Assign each cluster to a different vehicle and solve Travelling Salesman for each. Clustering is done using D-Wave's Leap Hybrid DQM Solvers. Below we show the formulation for TSP with $P$ nodes. This TSP is to be repeated for each cluster.\n",
    "\n",
    "***Representation***\n",
    "\n",
    "$x_{i,j} = 1$ if the salesman is at the $i^{th}$ node at the $j^{th}$ timestep.\n",
    "\n",
    "$$i \\in \\{1, \\dots P\\}; \\; j \\in \\{1, \\dots P\\}$$\n",
    "\n",
    "***Objective Function***\n",
    "\n",
    "$$C = \\sum_{n=1}^P C_{0,n} x_{n,1} + \\sum_{n=1}^P C_{n,0} x_{n,P} + \\sum_{n=1}^{N-1} \\sum_{i=1}^{N} \\sum_{j=1}^{N} C_{i,j} x_{i,n} x_{j,n+1}$$\n",
    "\n",
    "Here, the first term represents the cost of moving from the depot to the first visited client for each vehicle, the second term represents the cost of moving from the last visited client to the depot for each vehicle, and the third term represents the costs at the intermediate nodes.\n",
    "\n",
    "***Constraints***\n",
    "\n",
    " - Every node is served at only one time.\n",
    "\n",
    "$$\\sum_{j=1}^P x_{i,j} = 1 \\;\\;\\forall i$$\n",
    "\n",
    " - The vehicle can be at only one place at a given time\n",
    "\n",
    "$$\\sum_{i=1}^P x_{i,j} = 1 \\;\\;\\forall j$$\n",
    "\n",
    "***Qubit Complexity***\n",
    "\n",
    " - No. of Logical Variables: $MN + \\frac{N^2}{M}$\n",
    " - Best Case: $2N\\sqrt{N}$\n",
    " - Worst Case: $N(N+1)$\n",
    "\n",
    "![](images/cts_complexity.png)"
   ]
  },
  {
   "cell_type": "code",
   "execution_count": null,
   "metadata": {},
   "outputs": [],
   "source": [
    "cts = ClusteredTspSolver(n, m, instance)\n",
    "cts.solve(solver='npme')\n",
    "cts.visualize(xc, yc)"
   ]
  },
  {
   "cell_type": "markdown",
   "metadata": {},
   "source": [
    "## Solution Partitioning Solver (SPS)\n",
    "\n",
    "***Algorithm***\n",
    "\n",
    "Assume a single vehicle and solve the TSP for the problem. Then cut the TSP solution at $M-1$ points to generate $M$ routes for $M$ vehicles. While selecting the cuts, out of a total possible $N-1$ choices, choose the $M-1$ cuts that would minimize the extra cost incurred. Below, we outline the TSP formulation used.\n",
    "\n",
    "***Representation***\n",
    "\n",
    "$x_{i,j} = 1$ if the salesman is at the $i^{th}$ node at the $j^{th}$ timestep.\n",
    "\n",
    "$$i \\in \\{1, \\dots P\\}; \\; j \\in \\{1, \\dots P\\}$$\n",
    "\n",
    "***Objective Function***\n",
    "\n",
    "$$C = \\sum_{n=1}^P C_{0,n} x_{n,1} + \\sum_{n=1}^P C_{n,0} x_{n,P} + \\sum_{n=1}^{N-1} \\sum_{i=1}^{N} \\sum_{j=1}^{N} C_{i,j} x_{i,n} x_{j,n+1}$$\n",
    "\n",
    "Here, the first term represents the cost of moving from the depot to the first visited client for each vehicle, the second term represents the cost of moving from the last visited client to the depot for each vehicle, and the third term represents the costs at the intermediate nodes.\n",
    "\n",
    "***Constraints***\n",
    "\n",
    " - Every node is served at only one time.\n",
    "\n",
    "$$\\sum_{j=1}^P x_{i,j} = 1 \\;\\;\\forall i$$\n",
    "\n",
    " - The vehicle can be at only one place at a given time\n",
    "\n",
    "$$\\sum_{i=1}^P x_{i,j} = 1 \\;\\;\\forall j$$\n",
    "\n",
    "***Qubit Complexity***\n",
    "\n",
    " - No. of Logical Variables: $N^2$\n",
    " - Best Case: $N^2$\n",
    " - Worst Case: $N^2$\n",
    "\n",
    "![](images/sps_complexity.png)"
   ]
  },
  {
   "cell_type": "code",
   "execution_count": null,
   "metadata": {
    "scrolled": true
   },
   "outputs": [],
   "source": [
    "sps = SolutionPartitionSolver(n, m, instance)\n",
    "sps.solve(solver='npme')\n",
    "sps.visualize(xc, yc)"
   ]
  },
  {
   "cell_type": "markdown",
   "metadata": {},
   "source": [
    "## Qubit Complexity\n",
    "\n",
    "By Qubit Complexity of a solver, we refer to the number of logical variables in the Quadratic Program for the associated solver. We have already specified the number of variables required for each Solver in the previous section. We tabulate this data below.\n",
    "\n",
    "| Solver | Best Case Complexity | Worst Case Complexity |\n",
    "| :-: | :-: | :-: |\n",
    "| ***FQS*** | $N(N + 1)$ | $N^2(N + 1)$ |\n",
    "| ***APS*** | $N(N + 1)$ | $N^2(N + 1)$ |\n",
    "| ***RAS*** | $N(N + 1)$ | $N(N + 1)$ |\n",
    "| ***QNS*** | $N(N + 1)$ | $N(N + 1)$ |\n",
    "| ***CTS*** | $2N\\sqrt{N}$ | $N(N + 1)$ |\n",
    "| ***SPS*** | $N^2$ | $N^2$ |"
   ]
  },
  {
   "cell_type": "markdown",
   "metadata": {},
   "source": [
    "For comparison, we plot the best and worst case qubit complexities for the solvers below:\n",
    "![](images/qubit_complexity.png)"
   ]
  },
  {
   "cell_type": "markdown",
   "metadata": {},
   "source": [
    "## QUBO Cost and Execution Times\n",
    "In this section, we show how we may evaluate the performance of the various solvers by monitoring the exection times and optimized cost. A more detailed performance analysis may be found in the Jupyter Notebooks inside the **'QOSF-cohort3/vehicle_routing/Performance_Comparisons/\n",
    "'** folder of the github repository.\n",
    "\n",
    "### Optimized Cost"
   ]
  },
  {
   "cell_type": "code",
   "execution_count": null,
   "metadata": {
    "scrolled": false
   },
   "outputs": [],
   "source": [
    "vrp_list = [fqs, aps, ras, qns, cts, sps]\n",
    "solver_types = ['FQS', 'APS', 'RAS', 'QNS', 'CTS', 'SPS']\n",
    "for i, vrp in enumerate(vrp_list):\n",
    "    print(f'{solver_types[i]} - Optimized Cost: {vrp.evaluate_vrp_cost()}')"
   ]
  },
  {
   "cell_type": "markdown",
   "metadata": {},
   "source": [
    "### QUBO Build Times"
   ]
  },
  {
   "cell_type": "code",
   "execution_count": null,
   "metadata": {
    "scrolled": true
   },
   "outputs": [],
   "source": [
    "qubo_time = [vrp.timing['qubo_build_time'] for vrp in vrp_list]\n",
    "for i in range(len(vrp_list)):\n",
    "    print(f'{solver_types[i]} - Classical QUBO Build Time: {qubo_time[i]} us')"
   ]
  },
  {
   "cell_type": "markdown",
   "metadata": {},
   "source": [
    "### D-Wave QPU Access Times"
   ]
  },
  {
   "cell_type": "code",
   "execution_count": null,
   "metadata": {
    "scrolled": true
   },
   "outputs": [],
   "source": [
    "qpu_time = [(vrp.timing['qpu_access_time'], 0) for vrp in vrp_list]\n",
    "qpu_time[4] += cts.timing['clustering_time']['qpu_access_time']\n",
    "for i in range(len(vrp_list)):\n",
    "    print(f'{solver_types[i]} - QPU Access Time: {qpu_time[i]} us')"
   ]
  },
  {
   "cell_type": "markdown",
   "metadata": {},
   "source": [
    "## Capacitated Solvers\n",
    "\n",
    "The github repository also includes a set of solvers for solving the capacitated vehicle routing problem. An example of this, the Capacitated SPS, is shown below. All other solvers, other than QNS, also have their capacitated versions, which are accessed in a similar manner. It is to be noted that almost all all capacitated solvers are in general, quite poor-performing in comparison to the basic solvers, largely due to the additional constraints introduced. The Capacitated SPS, is basically the only algorithm that seems to provide a decent performance in this case."
   ]
  },
  {
   "cell_type": "code",
   "execution_count": null,
   "metadata": {},
   "outputs": [],
   "source": [
    "from solution_partition_solver import CapcSolutionPartitionSolver\n",
    "\n",
    "cap = 10\n",
    "dem = [i+1 for i in range(n)]\n",
    "sps = CapcSolutionPartitionSolver(n, m, instance, cap, dem)\n",
    "sps.solve(solver='npme')\n",
    "sps.visualize(xc, yc)"
   ]
  },
  {
   "cell_type": "markdown",
   "metadata": {},
   "source": [
    "## Conclusion\n",
    "In this document, we have explored the formulations of six different solvers for the Vehicle Routing Problem and have provided the example code for their usage. A more detailed performance analysis of each of these as well as comparisons against classical CPLEX solvers may be found in the **'QOSF-cohort3/vehicle_routing/Performance_Comparisons/\n",
    "'** folder of the github repository."
   ]
  }
 ],
 "metadata": {
  "colab": {
   "collapsed_sections": [],
   "name": "Vehicle Routing",
   "provenance": [],
   "toc_visible": true
  },
  "interpreter": {
   "hash": "1fddfe479357b1ca97118c3a6342535a6e6159876c04dae960732da936488d33"
  },
  "kernelspec": {
   "display_name": "Python 3.9.7 64-bit",
   "name": "python3"
  },
  "language_info": {
   "codemirror_mode": {
    "name": "ipython",
    "version": 3
   },
   "file_extension": ".py",
   "mimetype": "text/x-python",
   "name": "python",
   "nbconvert_exporter": "python",
   "pygments_lexer": "ipython3",
   "version": "3.9.7"
  }
 },
 "nbformat": 4,
 "nbformat_minor": 1
}
