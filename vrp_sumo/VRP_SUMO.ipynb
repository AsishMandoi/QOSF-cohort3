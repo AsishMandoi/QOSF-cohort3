{
 "cells": [
  {
   "cell_type": "markdown",
   "metadata": {
    "id": "h4shRT6XrABm"
   },
   "source": [
    "# Setup"
   ]
  },
  {
   "cell_type": "code",
   "execution_count": null,
   "metadata": {
    "id": "MQbxEpJHeWxh"
   },
   "outputs": [],
   "source": [
    "!sudo apt-get install sumo sumo-tools sumo-doc"
   ]
  },
  {
   "cell_type": "code",
   "execution_count": null,
   "metadata": {
    "id": "W1pNgo0ymp5s"
   },
   "outputs": [],
   "source": [
    "!pip install qiskit[visualization]"
   ]
  },
  {
   "cell_type": "code",
   "execution_count": null,
   "metadata": {
    "id": "g3XG0EmHm4iX"
   },
   "outputs": [],
   "source": [
    "!pip install dwave-qiskit-plugin"
   ]
  },
  {
   "cell_type": "code",
   "execution_count": null,
   "metadata": {
    "id": "C670CsvhnHdS"
   },
   "outputs": [],
   "source": [
    "!dwave setup"
   ]
  },
  {
   "cell_type": "markdown",
   "metadata": {
    "id": "8J3rcmwvrEeD"
   },
   "source": [
    "# Start Here"
   ]
  },
  {
   "cell_type": "code",
   "execution_count": 1,
   "metadata": {
    "colab": {
     "base_uri": "https://localhost:8080/"
    },
    "id": "S5IAtaLAl2_3",
    "outputId": "c25783b1-1984-4a51-b72e-cda9a4806057"
   },
   "outputs": [],
   "source": [
    "import numpy as np\n",
    "import matplotlib.pyplot as plt\n",
    "import os\n",
    "import vrp_xml_handler\n",
    "import quantum_optimizer\n",
    "from itertools import product"
   ]
  },
  {
   "cell_type": "code",
   "execution_count": 2,
   "metadata": {
    "id": "MMrRNHPLmkWN"
   },
   "outputs": [],
   "source": [
    "n = 4\n",
    "k = 2"
   ]
  },
  {
   "cell_type": "code",
   "execution_count": 3,
   "metadata": {
    "id": "QyHwAlBCn1Tq"
   },
   "outputs": [],
   "source": [
    "node_dict = {0: '-168940071#1', 1: '4610479#0', 2: '234463931#2', 3: '171826984#2'}\n",
    "edge_list = [p for p in product(node_dict.keys(), node_dict.keys()) if p[0] != p[1]]\n",
    "path_dict = {i: edge_list[i] for i in range(len(edge_list))}\n",
    "depart_times = range(0, 3600, 300)\n",
    "departure_schedule = {t: list(path_dict.keys()) for t in reversed(depart_times)}\n",
    "vrp_xml_handler.build_simulation_route(node_dict, path_dict, departure_schedule, 'scenario_1')"
   ]
  },
  {
   "cell_type": "code",
   "execution_count": 4,
   "metadata": {
    "id": "_YrI7uCWTeOi"
   },
   "outputs": [
    {
     "data": {
      "text/plain": [
       "0"
      ]
     },
     "execution_count": 4,
     "metadata": {},
     "output_type": "execute_result"
    }
   ],
   "source": [
    "os.system('sumo -c scenario_1/osm.sumocfg --tripinfo-output scenario_1/vrp_cost_sim.xml --no-warnings true')"
   ]
  },
  {
   "cell_type": "code",
   "execution_count": 5,
   "metadata": {
    "id": "GXD4LajJT817"
   },
   "outputs": [],
   "source": [
    "w = vrp_xml_handler.estimate_cost_graph('scenario_1/vrp_cost_sim.xml', path_dict)"
   ]
  },
  {
   "cell_type": "code",
   "execution_count": 6,
   "metadata": {
    "id": "1naLYHgEn3rR"
   },
   "outputs": [],
   "source": [
    "instance = np.zeros((n, n))\n",
    "for i, j in edge_list:\n",
    "    instance[i, j] = w[(i, j)]"
   ]
  },
  {
   "cell_type": "code",
   "execution_count": 7,
   "metadata": {
    "id": "g8N-sHdTqFmH"
   },
   "outputs": [],
   "source": [
    "quantum_optimizer = quantum_optimizer.QuantumOptimizer(instance, n, k)\n",
    "Q, g, c, binary_cost = quantum_optimizer.binary_representation()\n",
    "qp = quantum_optimizer.construct_problem(Q, g, c)\n",
    "quantum_solution, quantum_cost = quantum_optimizer.solve_problem(qp)"
   ]
  },
  {
   "cell_type": "code",
   "execution_count": 8,
   "metadata": {
    "id": "ac3pV6ZgWLLg"
   },
   "outputs": [],
   "source": [
    "route_edges = [edge_list[i] for i in range(len(edge_list)) if quantum_solution[i] == 1]\n",
    "routes = [list(edge) for edge in route_edges if edge[0] == 0]\n",
    "for route in routes:\n",
    "    while route[-1] != 0:\n",
    "        stuck = True\n",
    "        for edge in route_edges:\n",
    "            if edge[0] == route[-1]:\n",
    "                route.append(edge[1])\n",
    "                stuck = False\n",
    "                break\n",
    "        if stuck:\n",
    "            break"
   ]
  },
  {
   "cell_type": "code",
   "execution_count": 9,
   "metadata": {
    "id": "P-dvHaEcWMMx"
   },
   "outputs": [
    {
     "name": "stdout",
     "output_type": "stream",
     "text": [
      "Initiating Full Simulation...\n",
      "Optimized Quantum Cost:  1011.4999999997672\n"
     ]
    }
   ],
   "source": [
    "routes = [tuple(route) for route in routes]\n",
    "path_dict = {i: routes[i] for i in range(len(routes))}\n",
    "depart_times = range(0, 3600, 1200)\n",
    "schedule = {t: list(path_dict.keys()) for t in reversed(depart_times)}\n",
    "vrp_xml_handler.build_simulation_route(node_dict, path_dict, schedule)\n",
    "print('Initiating Full Simulation...')\n",
    "os.system('sumo -c {0}/osm.sumocfg --tripinfo-output {0}/vrp_full_sim.xml --no-warnings true'.format('scenario_1'))\n",
    "print('Optimized Quantum Cost: ', quantum_cost)"
   ]
  }
 ],
 "metadata": {
  "colab": {
   "collapsed_sections": [],
   "name": "VRP_SUMO.ipynb",
   "provenance": [],
   "toc_visible": true
  },
  "kernelspec": {
   "display_name": "Python 3",
   "language": "python",
   "name": "python3"
  },
  "language_info": {
   "codemirror_mode": {
    "name": "ipython",
    "version": 3
   },
   "file_extension": ".py",
   "mimetype": "text/x-python",
   "name": "python",
   "nbconvert_exporter": "python",
   "pygments_lexer": "ipython3",
   "version": "3.7.10"
  }
 },
 "nbformat": 4,
 "nbformat_minor": 1
}
